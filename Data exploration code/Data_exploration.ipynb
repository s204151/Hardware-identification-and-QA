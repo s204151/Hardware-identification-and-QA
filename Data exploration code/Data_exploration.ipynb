{
 "cells": [
  {
   "cell_type": "code",
   "execution_count": 1,
   "outputs": [],
   "source": [
    "import pandas as pd\n",
    "import os\n",
    "from tqdm.notebook import tqdm\n",
    "import numpy as np\n",
    "import cv2\n",
    "\n",
    "rootPath = \"D:/DTU-D/4/Fagprojekt/Data\"\n",
    "csvName = \"labels.csv\"\n",
    "csvName2 = \"labels2.csv\"\n",
    "data = pd.concat([\n",
    "    pd.read_csv(os.path.join(rootPath,csvName)),\n",
    "    pd.read_csv(os.path.join(rootPath,csvName2))\n",
    "])\n",
    "# data.drop(data.index[[1711]], inplace=True) #GIF\n",
    "data.drop(data.index[[3033,3034,3035]], inplace=True) #Corrupted pictures\n",
    "rows = data.shape[0]"
   ],
   "metadata": {
    "collapsed": false,
    "pycharm": {
     "name": "#%%\n"
    }
   }
  },
  {
   "cell_type": "code",
   "execution_count": 2,
   "outputs": [
    {
     "data": {
      "text/plain": "  0%|          | 0/3495 [00:00<?, ?it/s]",
      "application/vnd.jupyter.widget-view+json": {
       "version_major": 2,
       "version_minor": 0,
       "model_id": "f994e1af1a9345d693bf3fc6f5610d23"
      }
     },
     "metadata": {},
     "output_type": "display_data"
    }
   ],
   "source": [
    "# Get picture resolutions\n",
    "resolutions = np.zeros(shape=(rows,2))\n",
    "for i in tqdm(range(rows)):\n",
    "    image_path = data.iloc[i]['image_path'].lower()\n",
    "    if image_path.endswith(\"gif\") or image_path.endswith(\"pdf\"):\n",
    "        continue\n",
    "    # The replaced letters are NOT the same. There is a mismatch between the csv file and the actual picture name\n",
    "    if \"ä\" in image_path:\n",
    "        image_path = image_path.replace(\"ä\", \"ä\")\n",
    "    if \"å\" in image_path:\n",
    "        image_path = image_path.replace(\"å\", \"å\")\n",
    "    if \"ö\" in image_path:\n",
    "        image_path = image_path.replace(\"ö\", \"ö\")\n",
    "\n",
    "    path = os.path.join(rootPath,image_path).lower()\n",
    "    # imdecode is needed to read paths with letters øæå\n",
    "    # https://stackoverflow.com/questions/43185605/how-do-i-read-an-image-from-a-path-with-unicode-characters\n",
    "    img = cv2.imdecode(np.fromfile(path, np.uint8), cv2.IMREAD_UNCHANGED)\n",
    "    resolutions[i] = [img.shape[0],img.shape[1]]"
   ],
   "metadata": {
    "collapsed": false,
    "pycharm": {
     "name": "#%%\n"
    }
   }
  },
  {
   "cell_type": "code",
   "execution_count": 3,
   "outputs": [],
   "source": [
    "# Get unique resolutions\n",
    "unique_reso = []\n",
    "unique_reso.append(resolutions[0])\n",
    "for i in range(len(resolutions)):\n",
    "    unique = True\n",
    "    for j in range(len(unique_reso)):\n",
    "        if resolutions[i][0] == unique_reso[j][0] and resolutions[i][1] == unique_reso[j][1]:\n",
    "            unique = False\n",
    "            break\n",
    "    if unique:\n",
    "        unique_reso.append(resolutions[i])"
   ],
   "metadata": {
    "collapsed": false,
    "pycharm": {
     "name": "#%%\n"
    }
   }
  },
  {
   "cell_type": "code",
   "execution_count": 4,
   "outputs": [
    {
     "name": "stderr",
     "output_type": "stream",
     "text": [
      "C:\\Users\\Damho\\AppData\\Local\\Temp/ipykernel_126408/2467117560.py:12: VisibleDeprecationWarning: Creating an ndarray from ragged nested sequences (which is a list-or-tuple of lists-or-tuples-or ndarrays with different lengths or shapes) is deprecated. If you meant to do this, you must specify 'dtype=object' when creating the ndarray.\n",
      "  reso_count = np.array(dict_unique)\n"
     ]
    }
   ],
   "source": [
    "# Get count on unique resolutions\n",
    "def getCount(array, toLook):\n",
    "    count = 0\n",
    "    for i in range(len(toLook)):\n",
    "        if (array==toLook[i]).all():\n",
    "            count += 1\n",
    "    return count\n",
    "\n",
    "dict_unique = []\n",
    "for i in range(len(unique_reso)):\n",
    "    dict_unique.append((unique_reso[i],getCount(unique_reso[i], resolutions)))\n",
    "reso_count = np.array(dict_unique)"
   ],
   "metadata": {
    "collapsed": false,
    "pycharm": {
     "name": "#%%\n"
    }
   }
  },
  {
   "cell_type": "code",
   "execution_count": 5,
   "outputs": [
    {
     "name": "stdout",
     "output_type": "stream",
     "text": [
      "Number of pictures: 3495\n",
      "number of unique resolutions: 289\n",
      "Number of resolutions with more than 5 pictures: 46\n",
      "Number of resolutions with more than 10 pictures: 32\n",
      "Number of resolutions with more than 15 pictures: 22\n",
      "Number of resolutions with more than 20 pictures: 16\n",
      "Number of resolutions with more than 40 pictures: 12\n"
     ]
    }
   ],
   "source": [
    "print(f\"Number of pictures: {rows}\")\n",
    "print(f\"number of unique resolutions: {len(reso_count)}\")\n",
    "print(f\"Number of resolutions with more than 5 pictures: {np.sum(reso_count[:,1]>5)}\")\n",
    "print(f\"Number of resolutions with more than 10 pictures: {np.sum(reso_count[:,1]>10)}\")\n",
    "print(f\"Number of resolutions with more than 15 pictures: {np.sum(reso_count[:,1]>15)}\")\n",
    "print(f\"Number of resolutions with more than 20 pictures: {np.sum(reso_count[:,1]>20)}\")\n",
    "print(f\"Number of resolutions with more than 40 pictures: {np.sum(reso_count[:,1]>40)}\")"
   ],
   "metadata": {
    "collapsed": false,
    "pycharm": {
     "name": "#%%\n"
    }
   }
  }
 ],
 "metadata": {
  "kernelspec": {
   "display_name": "Python 3",
   "language": "python",
   "name": "python3"
  },
  "language_info": {
   "codemirror_mode": {
    "name": "ipython",
    "version": 2
   },
   "file_extension": ".py",
   "mimetype": "text/x-python",
   "name": "python",
   "nbconvert_exporter": "python",
   "pygments_lexer": "ipython2",
   "version": "2.7.6"
  }
 },
 "nbformat": 4,
 "nbformat_minor": 0
}