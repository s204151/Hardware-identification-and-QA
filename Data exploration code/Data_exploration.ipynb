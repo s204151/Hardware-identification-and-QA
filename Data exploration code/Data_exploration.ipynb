{
 "cells": [
  {
   "cell_type": "code",
   "execution_count": 6,
   "outputs": [],
   "source": [
    "import pandas as pd\n",
    "import easyocr\n",
    "import os\n",
    "from tqdm.notebook import tqdm\n",
    "import torch\n",
    "import numpy as np\n",
    "import cv2\n",
    "\n",
    "rootPath = \"D:/DTU - D/4/Fagprojekt/Data\"\n",
    "csvName = \"labels.csv\"\n",
    "reader = easyocr.Reader(['en'])\n",
    "data = pd.read_csv(os.path.join(rootPath,csvName))\n",
    "batch = 1\n",
    "data.drop(1711, inplace=True) #GIF\n",
    "rows = data.shape[0]"
   ],
   "metadata": {
    "collapsed": false,
    "pycharm": {
     "name": "#%%\n"
    }
   }
  },
  {
   "cell_type": "code",
   "execution_count": 2,
   "outputs": [
    {
     "data": {
      "text/plain": "  0%|          | 0/2061 [00:00<?, ?it/s]",
      "application/vnd.jupyter.widget-view+json": {
       "version_major": 2,
       "version_minor": 0,
       "model_id": "f3605a935b5b4be0a07abd7fe9512dc2"
      }
     },
     "metadata": {},
     "output_type": "display_data"
    },
    {
     "name": "stderr",
     "output_type": "stream",
     "text": [
      "C:\\Users\\Damho\\anaconda3\\lib\\site-packages\\PIL\\Image.py:2855: DecompressionBombWarning: Image size (108000000 pixels) exceeds limit of 89478485 pixels, could be decompression bomb DOS attack.\n",
      "  warnings.warn(\n"
     ]
    }
   ],
   "source": [
    "results = []\n",
    "ground_truth = []\n",
    "resolutions = np.zeros(shape=(rows,2))\n",
    "correctIn = 0\n",
    "for i in tqdm(range(rows)):\n",
    "    # Primitive attempt at batching\n",
    "    if i % batch == 0:\n",
    "        del reader\n",
    "        torch.cuda.empty_cache()\n",
    "        reader = easyocr.Reader(['en'])\n",
    "\n",
    "    path = os.path.join(rootPath,data.iloc[i]['image_path'])\n",
    "\n",
    "    img = cv2.imread(path)\n",
    "    resolutions[i] = [img.shape[0],img.shape[1]]\n",
    "\n",
    "    result = reader.readtext(path)\n",
    "    results.append(result)\n",
    "\n",
    "    y = data.iloc[i]['meter_number']\n",
    "    ground_truth.append(y)\n",
    "    for j in range(len(result)):\n",
    "        if y in result[j]:\n",
    "            correctIn += 1\n",
    "            break"
   ],
   "metadata": {
    "collapsed": false,
    "pycharm": {
     "name": "#%%\n"
    }
   }
  },
  {
   "cell_type": "code",
   "execution_count": 3,
   "outputs": [],
   "source": [
    "# # Rename files\n",
    "# tochange = [29,45,133,135,136,180,186,203,303,347,349,369,379,429,514,562,566,644,645,713,821,946,1008,1073,1074,1087,1211,1212,1233,1325,1558,1568,1573,1574,1577,1611,1743,1900,372,908,958,959,992,993,1061,1362,1651,1671,1675,1735]\n",
    "#\n",
    "# for i in tochange:\n",
    "#     image_path = data.iloc[i]['image_path']\n",
    "#     newName = os.path.join(rootPath,image_path.replace(\"å\",\"aa\").replace(\"ø\",\"oo\").replace(\"æ\",\"ae\"))\n",
    "#     oldFileName = os.listdir(os.path.join(rootPath,os.path.dirname(image_path)))[0]\n",
    "#     oldName = os.path.join(rootPath,os.path.dirname(image_path),oldFileName)\n",
    "#     os.rename(oldName,newName)"
   ],
   "metadata": {
    "collapsed": false,
    "pycharm": {
     "name": "#%%\n"
    }
   }
  },
  {
   "cell_type": "code",
   "execution_count": 96,
   "outputs": [],
   "source": [
    "# np.savez(\"Variables_results_17_03_2022_detailsOn\",\n",
    "#          correctIn=correctIn,\n",
    "#          ground_truth=ground_truth,\n",
    "#          resolutions=resolutions,\n",
    "#          results=np.array(results,dtype=object),\n",
    "#          unique_reso = unique_reso)"
   ],
   "metadata": {
    "collapsed": false,
    "pycharm": {
     "name": "#%%\n"
    }
   }
  },
  {
   "cell_type": "code",
   "execution_count": 5,
   "outputs": [],
   "source": [
    "# import numpy as np\n",
    "# wut = np.load(\"D:/DTU - D/4/Fagprojekt/NoteBook_project/dsProject/Variables_results_17_03_2022_detailsOn.npz\")\n",
    "# resolutions = wut[\"resolutions\"]"
   ],
   "metadata": {
    "collapsed": false,
    "pycharm": {
     "name": "#%%\n"
    }
   }
  },
  {
   "cell_type": "code",
   "execution_count": 6,
   "outputs": [],
   "source": [
    "# Get unique resolutions\n",
    "unique_reso = []\n",
    "unique_reso.append(resolutions[0])\n",
    "for i in range(len(resolutions)):\n",
    "    unique = True\n",
    "    for j in range(len(unique_reso)):\n",
    "        if resolutions[i][0] == unique_reso[j][0] and resolutions[i][1] == unique_reso[j][1]:\n",
    "            unique = False\n",
    "            break\n",
    "    if unique:\n",
    "        unique_reso.append(resolutions[i])"
   ],
   "metadata": {
    "collapsed": false,
    "pycharm": {
     "name": "#%%\n"
    }
   }
  },
  {
   "cell_type": "code",
   "execution_count": 7,
   "outputs": [
    {
     "name": "stderr",
     "output_type": "stream",
     "text": [
      "C:\\Users\\Damho\\AppData\\Local\\Temp/ipykernel_46804/2467117560.py:12: VisibleDeprecationWarning: Creating an ndarray from ragged nested sequences (which is a list-or-tuple of lists-or-tuples-or ndarrays with different lengths or shapes) is deprecated. If you meant to do this, you must specify 'dtype=object' when creating the ndarray.\n",
      "  reso_count = np.array(dict_unique)\n"
     ]
    }
   ],
   "source": [
    "# Get count on unique resolutions\n",
    "def getCount(array, toLook):\n",
    "    count = 0\n",
    "    for i in range(len(toLook)):\n",
    "        if (array==toLook[i]).all():\n",
    "            count += 1\n",
    "    return count\n",
    "\n",
    "dict_unique = []\n",
    "for i in range(len(unique_reso)):\n",
    "    dict_unique.append((unique_reso[i],getCount(unique_reso[i], resolutions)))\n",
    "reso_count = np.array(dict_unique)"
   ],
   "metadata": {
    "collapsed": false,
    "pycharm": {
     "name": "#%%\n"
    }
   }
  },
  {
   "cell_type": "code",
   "execution_count": 106,
   "outputs": [
    {
     "name": "stdout",
     "output_type": "stream",
     "text": [
      "Number of pictures: 2061\n",
      "number of unique resolutions: 225\n",
      "Number of resolutions with more than 5 pictures: 34\n",
      "Number of resolutions with more than 10 pictures: 21\n",
      "Number of resolutions with more than 15 pictures: 17\n",
      "Number of resolutions with more than 20 pictures: 12\n",
      "Number of resolutions with more than 40 pictures: 8\n",
      "pretrained accuracy: 8.967596081386587\n"
     ]
    }
   ],
   "source": [
    "print(f\"Number of pictures: {rows}\")\n",
    "print(f\"number of unique resolutions: {len(reso_count)}\")\n",
    "print(f\"Number of resolutions with more than 5 pictures: {np.sum(reso_count[:,1]>5)}\")\n",
    "print(f\"Number of resolutions with more than 10 pictures: {np.sum(reso_count[:,1]>10)}\")\n",
    "print(f\"Number of resolutions with more than 15 pictures: {np.sum(reso_count[:,1]>15)}\")\n",
    "print(f\"Number of resolutions with more than 20 pictures: {np.sum(reso_count[:,1]>20)}\")\n",
    "print(f\"Number of resolutions with more than 40 pictures: {np.sum(reso_count[:,1]>40)}\")\n",
    "print(f\"pretrained accuracy: {(correctIn/len(data.project_id.unique()))*100}\")"
   ],
   "metadata": {
    "collapsed": false,
    "pycharm": {
     "name": "#%%\n"
    }
   }
  },
  {
   "cell_type": "code",
   "execution_count": 8,
   "outputs": [
    {
     "ename": "NameError",
     "evalue": "name 'results' is not defined",
     "output_type": "error",
     "traceback": [
      "\u001B[1;31m---------------------------------------------------------------------------\u001B[0m",
      "\u001B[1;31mNameError\u001B[0m                                 Traceback (most recent call last)",
      "\u001B[1;32m~\\AppData\\Local\\Temp/ipykernel_46804/3295417492.py\u001B[0m in \u001B[0;36m<module>\u001B[1;34m\u001B[0m\n\u001B[0;32m      2\u001B[0m \u001B[1;32mfor\u001B[0m \u001B[0mi\u001B[0m \u001B[1;32min\u001B[0m \u001B[0mrange\u001B[0m\u001B[1;33m(\u001B[0m\u001B[0mlen\u001B[0m\u001B[1;33m(\u001B[0m\u001B[0mto_check\u001B[0m\u001B[1;33m)\u001B[0m\u001B[1;33m)\u001B[0m\u001B[1;33m:\u001B[0m\u001B[1;33m\u001B[0m\u001B[1;33m\u001B[0m\u001B[0m\n\u001B[0;32m      3\u001B[0m     \u001B[0midxs\u001B[0m \u001B[1;33m=\u001B[0m \u001B[1;33m[\u001B[0m\u001B[0mj\u001B[0m \u001B[1;32mfor\u001B[0m \u001B[0mj\u001B[0m\u001B[1;33m,\u001B[0m\u001B[0mx\u001B[0m \u001B[1;32min\u001B[0m \u001B[0menumerate\u001B[0m\u001B[1;33m(\u001B[0m\u001B[0mresolutions\u001B[0m\u001B[1;33m)\u001B[0m \u001B[1;32mif\u001B[0m \u001B[0mx\u001B[0m\u001B[1;33m[\u001B[0m\u001B[1;36m0\u001B[0m\u001B[1;33m]\u001B[0m \u001B[1;33m==\u001B[0m \u001B[0mto_check\u001B[0m\u001B[1;33m[\u001B[0m\u001B[0mi\u001B[0m\u001B[1;33m]\u001B[0m\u001B[1;33m[\u001B[0m\u001B[1;36m0\u001B[0m\u001B[1;33m]\u001B[0m\u001B[1;33m[\u001B[0m\u001B[1;36m0\u001B[0m\u001B[1;33m]\u001B[0m \u001B[1;32mand\u001B[0m \u001B[0mx\u001B[0m\u001B[1;33m[\u001B[0m\u001B[1;36m1\u001B[0m\u001B[1;33m]\u001B[0m \u001B[1;33m==\u001B[0m \u001B[0mto_check\u001B[0m\u001B[1;33m[\u001B[0m\u001B[0mi\u001B[0m\u001B[1;33m]\u001B[0m\u001B[1;33m[\u001B[0m\u001B[1;36m0\u001B[0m\u001B[1;33m]\u001B[0m\u001B[1;33m[\u001B[0m\u001B[1;36m1\u001B[0m\u001B[1;33m]\u001B[0m\u001B[1;33m]\u001B[0m\u001B[1;33m\u001B[0m\u001B[1;33m\u001B[0m\u001B[0m\n\u001B[1;32m----> 4\u001B[1;33m     \u001B[0mresult\u001B[0m \u001B[1;33m=\u001B[0m \u001B[1;33m[\u001B[0m\u001B[0mresults\u001B[0m\u001B[1;33m[\u001B[0m\u001B[0mi\u001B[0m\u001B[1;33m]\u001B[0m \u001B[1;32mfor\u001B[0m \u001B[0mi\u001B[0m \u001B[1;32min\u001B[0m \u001B[0midxs\u001B[0m\u001B[1;33m]\u001B[0m\u001B[1;33m\u001B[0m\u001B[1;33m\u001B[0m\u001B[0m\n\u001B[0m",
      "\u001B[1;32m~\\AppData\\Local\\Temp/ipykernel_46804/3295417492.py\u001B[0m in \u001B[0;36m<listcomp>\u001B[1;34m(.0)\u001B[0m\n\u001B[0;32m      2\u001B[0m \u001B[1;32mfor\u001B[0m \u001B[0mi\u001B[0m \u001B[1;32min\u001B[0m \u001B[0mrange\u001B[0m\u001B[1;33m(\u001B[0m\u001B[0mlen\u001B[0m\u001B[1;33m(\u001B[0m\u001B[0mto_check\u001B[0m\u001B[1;33m)\u001B[0m\u001B[1;33m)\u001B[0m\u001B[1;33m:\u001B[0m\u001B[1;33m\u001B[0m\u001B[1;33m\u001B[0m\u001B[0m\n\u001B[0;32m      3\u001B[0m     \u001B[0midxs\u001B[0m \u001B[1;33m=\u001B[0m \u001B[1;33m[\u001B[0m\u001B[0mj\u001B[0m \u001B[1;32mfor\u001B[0m \u001B[0mj\u001B[0m\u001B[1;33m,\u001B[0m\u001B[0mx\u001B[0m \u001B[1;32min\u001B[0m \u001B[0menumerate\u001B[0m\u001B[1;33m(\u001B[0m\u001B[0mresolutions\u001B[0m\u001B[1;33m)\u001B[0m \u001B[1;32mif\u001B[0m \u001B[0mx\u001B[0m\u001B[1;33m[\u001B[0m\u001B[1;36m0\u001B[0m\u001B[1;33m]\u001B[0m \u001B[1;33m==\u001B[0m \u001B[0mto_check\u001B[0m\u001B[1;33m[\u001B[0m\u001B[0mi\u001B[0m\u001B[1;33m]\u001B[0m\u001B[1;33m[\u001B[0m\u001B[1;36m0\u001B[0m\u001B[1;33m]\u001B[0m\u001B[1;33m[\u001B[0m\u001B[1;36m0\u001B[0m\u001B[1;33m]\u001B[0m \u001B[1;32mand\u001B[0m \u001B[0mx\u001B[0m\u001B[1;33m[\u001B[0m\u001B[1;36m1\u001B[0m\u001B[1;33m]\u001B[0m \u001B[1;33m==\u001B[0m \u001B[0mto_check\u001B[0m\u001B[1;33m[\u001B[0m\u001B[0mi\u001B[0m\u001B[1;33m]\u001B[0m\u001B[1;33m[\u001B[0m\u001B[1;36m0\u001B[0m\u001B[1;33m]\u001B[0m\u001B[1;33m[\u001B[0m\u001B[1;36m1\u001B[0m\u001B[1;33m]\u001B[0m\u001B[1;33m]\u001B[0m\u001B[1;33m\u001B[0m\u001B[1;33m\u001B[0m\u001B[0m\n\u001B[1;32m----> 4\u001B[1;33m     \u001B[0mresult\u001B[0m \u001B[1;33m=\u001B[0m \u001B[1;33m[\u001B[0m\u001B[0mresults\u001B[0m\u001B[1;33m[\u001B[0m\u001B[0mi\u001B[0m\u001B[1;33m]\u001B[0m \u001B[1;32mfor\u001B[0m \u001B[0mi\u001B[0m \u001B[1;32min\u001B[0m \u001B[0midxs\u001B[0m\u001B[1;33m]\u001B[0m\u001B[1;33m\u001B[0m\u001B[1;33m\u001B[0m\u001B[0m\n\u001B[0m",
      "\u001B[1;31mNameError\u001B[0m: name 'results' is not defined"
     ]
    }
   ],
   "source": [
    "to_check = reso_count[np.argsort(reso_count[:,1])][-8:,:]\n",
    "for i in range(len(to_check)):\n",
    "    idxs = [j for j,x in enumerate(resolutions) if x[0] == to_check[i][0][0] and x[1] == to_check[i][0][1]]\n",
    "    result = [results[i] for i in idxs]"
   ],
   "metadata": {
    "collapsed": false,
    "pycharm": {
     "name": "#%%\n"
    }
   }
  }
 ],
 "metadata": {
  "kernelspec": {
   "display_name": "Python 3",
   "language": "python",
   "name": "python3"
  },
  "language_info": {
   "codemirror_mode": {
    "name": "ipython",
    "version": 2
   },
   "file_extension": ".py",
   "mimetype": "text/x-python",
   "name": "python",
   "nbconvert_exporter": "python",
   "pygments_lexer": "ipython2",
   "version": "2.7.6"
  }
 },
 "nbformat": 4,
 "nbformat_minor": 0
}