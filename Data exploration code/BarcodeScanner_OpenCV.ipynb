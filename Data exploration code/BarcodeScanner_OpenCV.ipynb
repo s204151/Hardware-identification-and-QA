{
 "cells": [
  {
   "cell_type": "code",
   "execution_count": 16,
   "outputs": [],
   "source": [
    "import numpy as np\n",
    "import cv2\n",
    "import imutils"
   ],
   "metadata": {
    "collapsed": false,
    "pycharm": {
     "name": "#%%\n"
    }
   }
  },
  {
   "cell_type": "code",
   "execution_count": 17,
   "outputs": [],
   "source": [
    "# load the image and convert it to grayscale\n",
    "def get_barcode(image_path):\n",
    "    image = cv2.imread(\"D:/DTU-D/4/Fagprojekt/Data/photos/00a53a17-50db-4a3d-be1a-31ffd9537030/image.jpg\")\n",
    "    # image = cv2.imread(r\"D:\\DTU-D\\4\\Fagprojekt\\Data\\photos\\00dc11b6-bb75-4b9b-95c1-b4f247796b25\\20201120_0832291.jpg\")\n",
    "    # image = cv2.imread(r\"D:\\DTU-D\\4\\Fagprojekt\\Data\\photos\\00e98217-20c2-429a-aa1a-b8c183a84d24\\5AB1D358-F313-4107-9272-AA7D08D52804.jpeg\")\n",
    "    # image = cv2.imread(r\"D:\\DTU-D\\4\\Fagprojekt\\Data\\photos\\0a000d87-9173-4bc3-a433-b77223437aa5\\IMG_0329.JPG\")\n",
    "    gray = cv2.cvtColor(image, cv2.COLOR_BGR2GRAY)\n",
    "    # compute the Scharr gradient magnitude representation of the images\n",
    "    # in both the x and y direction\n",
    "    gradX = cv2.Sobel(gray, ddepth = cv2.CV_32F, dx = 1, dy = 0, ksize = -1)\n",
    "    gradY = cv2.Sobel(gray, ddepth = cv2.CV_32F, dx = 0, dy = 1, ksize = -1)\n",
    "    # subtract the y-gradient from the x-gradient\n",
    "    gradient = cv2.subtract(gradX, gradY)\n",
    "    gradient = cv2.convertScaleAbs(gradient)\n",
    "\n",
    "    # blur and threshold the image\n",
    "    blurred = cv2.blur(gradient, (9, 9))\n",
    "    (_, thresh) = cv2.threshold(blurred, 225, 255, cv2.THRESH_BINARY)\n",
    "\n",
    "    # construct a closing kernel and apply it to the thresholded image\n",
    "    kernel = cv2.getStructuringElement(cv2.MORPH_RECT, (21, 7))\n",
    "    closed = cv2.morphologyEx(thresh, cv2.MORPH_CLOSE, kernel)\n",
    "\n",
    "    # perform a series of erosions and dilations\n",
    "    closed = cv2.erode(closed, None, iterations = 4)\n",
    "    closed = cv2.dilate(closed, None, iterations = 4)\n",
    "\n",
    "    # find the contours in the thresholded image, then sort the contours\n",
    "    # by their area, keeping only the largest one\n",
    "    cnts = cv2.findContours(closed.copy(), cv2.RETR_EXTERNAL,\n",
    "                            cv2.CHAIN_APPROX_SIMPLE)\n",
    "    cnts = imutils.grab_contours(cnts)\n",
    "    c = sorted(cnts, key = cv2.contourArea, reverse = True)[0]\n",
    "\n",
    "    # compute the rotated bounding box of the largest contour\n",
    "    rect = cv2.minAreaRect(c)\n",
    "    box = cv2.cv.BoxPoints(rect) if imutils.is_cv2() else cv2.boxPoints(rect)\n",
    "    box = np.int0(box)\n",
    "\n",
    "    # draw a bounding box arounded the detected barcode and display the\n",
    "    # image\n",
    "    cv2.drawContours(image, [box], -1, (0, 255, 0), 3)\n",
    "    # cv2.imshow(\"Image\", image)\n",
    "    # cv2.waitKey(0)\n",
    "    cv2.imwrite(\"Image.jpg\", image)\n",
    "get_barcode(\"\")"
   ],
   "metadata": {
    "collapsed": false,
    "pycharm": {
     "name": "#%%\n"
    }
   }
  }
 ],
 "metadata": {
  "kernelspec": {
   "display_name": "Python 3",
   "language": "python",
   "name": "python3"
  },
  "language_info": {
   "codemirror_mode": {
    "name": "ipython",
    "version": 2
   },
   "file_extension": ".py",
   "mimetype": "text/x-python",
   "name": "python",
   "nbconvert_exporter": "python",
   "pygments_lexer": "ipython2",
   "version": "2.7.6"
  }
 },
 "nbformat": 4,
 "nbformat_minor": 0
}