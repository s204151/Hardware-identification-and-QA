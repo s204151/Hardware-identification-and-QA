{
 "cells": [
  {
   "cell_type": "code",
   "execution_count": 1,
   "outputs": [],
   "source": [
    "# import numpy as np\n",
    "# import cv2\n",
    "# import imutils"
   ],
   "metadata": {
    "collapsed": false,
    "pycharm": {
     "name": "#%%\n"
    }
   }
  },
  {
   "cell_type": "code",
   "execution_count": 2,
   "outputs": [],
   "source": [
    "# import imutils\n",
    "# # load the image and convert it to grayscale\n",
    "# def get_barcode(image_path):\n",
    "#     image = cv2.imread(\"D:/DTU-D/4/Fagprojekt/Data/photos/00a53a17-50db-4a3d-be1a-31ffd9537030/image.jpg\")\n",
    "#     # image = cv2.imread(r\"D:\\DTU-D\\4\\Fagprojekt\\Data\\photos\\00dc11b6-bb75-4b9b-95c1-b4f247796b25\\20201120_0832291.jpg\")\n",
    "#     # image = cv2.imread(r\"D:\\DTU-D\\4\\Fagprojekt\\Data\\photos\\00e98217-20c2-429a-aa1a-b8c183a84d24\\5AB1D358-F313-4107-9272-AA7D08D52804.jpeg\")\n",
    "#     # image = cv2.imread(r\"D:\\DTU-D\\4\\Fagprojekt\\Data\\photos\\0a000d87-9173-4bc3-a433-b77223437aa5\\IMG_0329.JPG\")\n",
    "#     gray = cv2.cvtColor(image, cv2.COLOR_BGR2GRAY)\n",
    "#     # compute the Scharr gradient magnitude representation of the images\n",
    "#     # in both the x and y direction\n",
    "#     gradX = cv2.Sobel(gray, ddepth = cv2.CV_32F, dx = 1, dy = 0, ksize = -1)\n",
    "#     gradY = cv2.Sobel(gray, ddepth = cv2.CV_32F, dx = 0, dy = 1, ksize = -1)\n",
    "#     # subtract the y-gradient from the x-gradient\n",
    "#     gradient = cv2.subtract(gradX, gradY)\n",
    "#     gradient = cv2.convertScaleAbs(gradient)\n",
    "#\n",
    "#     # blur and threshold the image\n",
    "#     blurred = cv2.blur(gradient, (9, 9))\n",
    "#     (_, thresh) = cv2.threshold(blurred, 225, 255, cv2.THRESH_BINARY)\n",
    "#\n",
    "#     # construct a closing kernel and apply it to the thresholded image\n",
    "#     kernel = cv2.getStructuringElement(cv2.MORPH_RECT, (21, 7))\n",
    "#     closed = cv2.morphologyEx(thresh, cv2.MORPH_CLOSE, kernel)\n",
    "#\n",
    "#     # perform a series of erosions and dilations\n",
    "#     closed = cv2.erode(closed, None, iterations = 4)\n",
    "#     closed = cv2.dilate(closed, None, iterations = 4)\n",
    "#\n",
    "#     # find the contours in the thresholded image, then sort the contours\n",
    "#     # by their area, keeping only the largest one\n",
    "#     cnts = cv2.findContours(closed.copy(), cv2.RETR_EXTERNAL,\n",
    "#                             cv2.CHAIN_APPROX_SIMPLE)\n",
    "#     cnts = imutils.grab_contours(cnts)\n",
    "#     c = sorted(cnts, key = cv2.contourArea, reverse = True)[0]\n",
    "#\n",
    "#     # compute the rotated bounding box of the largest contour\n",
    "#     rect = cv2.minAreaRect(c)\n",
    "#     box = cv2.cv.BoxPoints(rect) if imutils.is_cv2() else cv2.boxPoints(rect)\n",
    "#     box = np.int0(box)\n",
    "#\n",
    "#     def get_barcode(image_path):\n",
    "#         image = cv2.imread(\"D:/DTU-D/4/Fagprojekt/Data/photos/00a53a17-50db-4a3d-be1a-31ffd9537030/image.jpg\")\n",
    "#     # image = cv2.imread(r\"D:\\DTU-D\\4\\Fagprojekt\\Data\\photos\\00dc11b6-bb75-4b9b-95c1-b4f247796b25\\20201120_0832291.jpg\")\n",
    "#     # image = cv2.imread(r\"D:\\DTU-D\\4\\Fagprojekt\\Data\\photos\\00e98217-20c2-429a-aa1a-b8c183a84d24\\5AB1D358-F313-4107-9272-AA7D08D52804.jpeg\")\n",
    "#     # image = cv2.imread(r\"D:\\DTU-D\\4\\Fagprojekt\\Data\\photos\\0a000d87-9173-4bc3-a433-b77223437aa5\\IMG_0329.JPG\")\n",
    "#     gray = cv2.cvtColor(image, cv2.COLOR_BGR2GRAY)\n",
    "#     # compute the Scharr gradient magnitude representation of the images\n",
    "#     # in both the x and y direction\n",
    "#     gradX = cv2.Sobel(gray, ddepth = cv2.CV_32F, dx = 1, dy = 0, ksize = -1)\n",
    "#     gradY = cv2.Sobel(gray, ddepth = cv2.CV_32F, dx = 0, dy = 1, ksize = -1)\n",
    "#     # subtract the y-gradient from the x-gradient\n",
    "#     gradient = cv2.subtract(gradX, gradY)\n",
    "#     gradient = cv2.convertScaleAbs(gradient)\n",
    "#\n",
    "#     # blur and threshold the image\n",
    "#     blurred = cv2.blur(gradient, (9, 9))\n",
    "#     (_, thresh) = cv2.threshold(blurred, 225, 255, cv2.THRESH_BINARY)\n",
    "#\n",
    "#     # construct a closing kernel and apply it to the thresholded image\n",
    "#     kernel = cv2.getStructuringElement(cv2.MORPH_RECT, (21, 7))\n",
    "#     closed = cv2.morphologyEx(thresh, cv2.MORPH_CLOSE, kernel)\n",
    "#\n",
    "#     # perform a series of erosions and dilations\n",
    "#     closed = cv2.erode(closed, None, iterations = 4)\n",
    "#     closed = cv2.dilate(closed, None, iterations = 4)\n",
    "#\n",
    "#     # find the contours in the thresholded image, then sort the contours\n",
    "#     # by their area, keeping only the largest one\n",
    "#     cnts = cv2.findContours(closed.copy(), cv2.RETR_EXTERNAL,\n",
    "#                             cv2.CHAIN_APPROX_SIMPLE)\n",
    "#     cnts = imutils.grab_contours(cnts)\n",
    "#     c = sorted(cnts, key = cv2.contourArea, reverse = True)[0]\n",
    "#\n",
    "#     # compute the rotated bounding box of the largest contour\n",
    "#     rect = cv2.minAreaRect(c)\n",
    "#     box = cv2.cv.BoxPoints(rect) if imutils.is_cv2() else cv2.boxPoints(rect)\n",
    "#     box = np.int0(box)\n",
    "#\n",
    "#     # draw a bounding box arounded the detected barcode and display the\n",
    "#     # image\n",
    "#     cv2.drawContours(image, [box], -1, (0, 255, 0), 3)\n",
    "#     # cv2.imshow(\"Image\", image)\n",
    "#     # cv2.waitKey(0)\n",
    "#     # cv2.imwrite(\"Image.jpg\", image)\n",
    "# get_barcode(\"\")"
   ],
   "metadata": {
    "collapsed": false,
    "pycharm": {
     "name": "#%%\n"
    }
   }
  },
  {
   "cell_type": "code",
   "execution_count": 3,
   "outputs": [],
   "source": [
    "# # Importing library\n",
    "# import cv2\n",
    "# from pyzbar.pyzbar import decode\n",
    "#\n",
    "# # Make one method to decode the barcode\n",
    "# def BarcodeReader(image):\n",
    "#\n",
    "#     # read the image in numpy array using cv2\n",
    "#     img = cv2.imread(image)\n",
    "#\n",
    "#     # Decode the barcode image\n",
    "#     detectedBarcodes = decode(img)\n",
    "#\n",
    "#     # If not detected then print the message\n",
    "#     if not detectedBarcodes:\n",
    "#         print(\"Barcode Not Detected or your barcode is blank/corrupted!\")\n",
    "#     else:\n",
    "#\n",
    "#         # Traverse through all the detected barcodes in image\n",
    "#         for barcode in detectedBarcodes:\n",
    "#\n",
    "#             # Locate the barcode position in image\n",
    "#             (x, y, w, h) = barcode.rect\n",
    "#\n",
    "#             # Put the rectangle in image using\n",
    "#             # cv2 to heighlight the barcode\n",
    "#             cv2.rectangle(img, (x-10, y-10),\n",
    "#                           (x + w+10, y + h+10),\n",
    "#                           (255, 0, 0), 2)\n",
    "#\n",
    "#             if barcode.data!=\"\":\n",
    "#\n",
    "#                 # Print the barcode data\n",
    "#                 print(barcode.data)\n",
    "#                 print(barcode.type)\n",
    "#\n",
    "#     #Display the image\n",
    "#     # cv2.imshow(\"Image\", img)\n",
    "#     # cv2.waitKey(0)\n",
    "#     # cv2.destroyAllWindows()\n",
    "# BarcodeReader(\"D:/DTU-D/4/Fagprojekt/Data/photos/00a53a17-50db-4a3d-be1a-31ffd9537030/test.jpg\")"
   ],
   "metadata": {
    "collapsed": false,
    "pycharm": {
     "name": "#%%\n"
    }
   }
  },
  {
   "cell_type": "code",
   "execution_count": 4,
   "outputs": [],
   "source": [
    "# import cv2\n",
    "# from pyzbar.pyzbar import decode\n",
    "# from pyzbar.pyzbar import ZBarSymbol\n",
    "#\n",
    "# pic_path = \"D:/DTU-D/4/Fagprojekt/Data/photos/00a53a17-50db-4a3d-be1a-31ffd9537030/test.jpg\"\n",
    "# # preprocessing using opencv\n",
    "# im = cv2.imread(pic_path, cv2.IMREAD_GRAYSCALE)\n",
    "# ret, bw_im = cv2.threshold(im, 127, 255, cv2.THRESH_BINARY)\n",
    "# # zbar\n",
    "# barcodes = decode(bw_im, symbols=[ZBarSymbol.CODE93])"
   ],
   "metadata": {
    "collapsed": false,
    "pycharm": {
     "name": "#%%\n"
    }
   }
  },
  {
   "cell_type": "code",
   "execution_count": 19,
   "outputs": [],
   "source": [
    "import pandas as pd\n",
    "import os\n",
    "import numpy as np\n",
    "from tqdm.notebook import tqdm\n",
    "import cv2\n",
    "from pyzbar.pyzbar import decode\n",
    "\n",
    "rootPath = \"D:/DTU-D/4/Fagprojekt/Data\"\n",
    "# csvName = \"labels.csv\"\n",
    "# csvName2 = \"labels2.csv\"\n",
    "#\n",
    "# data = pd.concat([\n",
    "#     pd.read_csv(os.path.join(rootPath,csvName)),\n",
    "#     pd.read_csv(os.path.join(rootPath,csvName2))\n",
    "# ], ignore_index=True)\n",
    "# data = pd.read_csv(r\"D:\\DTU-D\\4\\Fagprojekt\\Data\\Data_Khalil\\data.csv\")\n",
    "data = pd.read_excel(r\"D:\\DTU-D\\4\\Fagprojekt\\Data\\data.xlsx\", sheet_name='to_read_excel')\n",
    "# data.drop([\"Unnamed: 0\"],axis=1,inplace=True)\n",
    "\n",
    "batch = 1\n",
    "# data.drop(data.index[[1711]], inplace=True) #GIF\n",
    "data.drop(data.index[[3033,3034,3035]], inplace=True) #Corrupted pictures\n",
    "rows = data.shape[0]"
   ],
   "metadata": {
    "collapsed": false,
    "pycharm": {
     "name": "#%%\n"
    }
   }
  },
  {
   "cell_type": "code",
   "execution_count": 20,
   "outputs": [
    {
     "data": {
      "text/plain": "  0%|          | 0/3498 [00:00<?, ?it/s]",
      "application/vnd.jupyter.widget-view+json": {
       "version_major": 2,
       "version_minor": 0,
       "model_id": "c383ad03a9a44ddaa1d86aa6c2c19009"
      }
     },
     "metadata": {},
     "output_type": "display_data"
    }
   ],
   "source": [
    "# Preprocess image paths\n",
    "new_paths = []\n",
    "to_remove = []\n",
    "for i in tqdm(range(rows)):\n",
    "    image_path = data.iloc[i]['image_path'].lower()\n",
    "    if image_path.endswith(\"gif\") or image_path.endswith(\"pdf\"):\n",
    "        to_remove.append(i)\n",
    "    # The replaced letters are NOT the same. There is a mismatch between the csv file and the actual picture name\n",
    "    if \"ä\" in image_path:\n",
    "        image_path = image_path.replace(\"ä\", \"ä\")\n",
    "    if \"å\" in image_path:\n",
    "        image_path = image_path.replace(\"å\", \"å\")\n",
    "    if \"ö\" in image_path:\n",
    "        image_path = image_path.replace(\"ö\", \"ö\")\n",
    "    path = os.path.join(rootPath,image_path)\n",
    "    new_paths.append(path)\n",
    "data['complete_path'] = new_paths\n",
    "data.drop(data.index[to_remove], inplace=True) #gif or pdf\n",
    "rows = data.shape[0]"
   ],
   "metadata": {
    "collapsed": false,
    "pycharm": {
     "name": "#%%\n"
    }
   }
  },
  {
   "cell_type": "code",
   "execution_count": 7,
   "outputs": [],
   "source": [
    "# import imutils\n",
    "# def get_barcode(image):\n",
    "#     gray = cv2.cvtColor(image, cv2.COLOR_BGR2GRAY)\n",
    "#     # compute the Scharr gradient magnitude representation of the images\n",
    "#     # in both the x and y direction\n",
    "#     gradX = cv2.Sobel(gray, ddepth = cv2.CV_32F, dx = 1, dy = 0, ksize = -1)\n",
    "#     gradY = cv2.Sobel(gray, ddepth = cv2.CV_32F, dx = 0, dy = 1, ksize = -1)\n",
    "#     # subtract the y-gradient from the x-gradient\n",
    "#     gradient = cv2.subtract(gradX, gradY)\n",
    "#     gradient = cv2.convertScaleAbs(gradient)\n",
    "#\n",
    "#     # blur and threshold the image\n",
    "#     blurred = cv2.blur(gradient, (9, 9))\n",
    "#     (_, thresh) = cv2.threshold(blurred, 225, 255, cv2.THRESH_BINARY)\n",
    "#\n",
    "#     # construct a closing kernel and apply it to the thresholded image\n",
    "#     kernel = cv2.getStructuringElement(cv2.MORPH_RECT, (21, 7))\n",
    "#     closed = cv2.morphologyEx(thresh, cv2.MORPH_CLOSE, kernel)\n",
    "#\n",
    "#     # perform a series of erosions and dilations\n",
    "#     closed = cv2.erode(closed, None, iterations = 4)\n",
    "#     closed = cv2.dilate(closed, None, iterations = 4)\n",
    "#\n",
    "#     # find the contours in the thresholded image, then sort the contours\n",
    "#     # by their area, keeping only the largest one\n",
    "#     cnts = cv2.findContours(closed.copy(), cv2.RETR_EXTERNAL,\n",
    "#                             cv2.CHAIN_APPROX_SIMPLE)\n",
    "#     cnts = imutils.grab_contours(cnts)\n",
    "#     if cnts:\n",
    "#         c = sorted(cnts, key = cv2.contourArea, reverse = True)[0]\n",
    "#     else:\n",
    "#         return\n",
    "#\n",
    "#     # compute the rotated bounding box of the largest contour\n",
    "#     rect = cv2.minAreaRect(c)\n",
    "#     box = cv2.cv.BoxPoints(rect) if imutils.is_cv2() else cv2.boxPoints(rect)\n",
    "#     box = np.int0(box)\n",
    "#\n",
    "#     return box\n",
    "#     return image[ymin:ymax,xmin:xmax, :]"
   ],
   "metadata": {
    "collapsed": false,
    "pycharm": {
     "name": "#%%\n"
    }
   }
  },
  {
   "cell_type": "code",
   "execution_count": 8,
   "outputs": [],
   "source": [
    "# # image = cv2.imread(r\"D:\\DTU-D\\4\\Fagprojekt\\Data\\photos\\fc779805-0a44-42a4-bc30-4d32ef353c28\\image.jpg\")\n",
    "# image = cv2.imdecode(np.fromfile(r\"D:\\DTU-D\\4\\Fagprojekt\\Data\\photos\\fc779805-0a44-42a4-bc30-4d32ef353c28\\image.jpg\"), cv2.IMREAD_UNCHANGED)\n",
    "# wut = decode(image)\n",
    "# wat = decode(get_barcode(image))\n",
    "# cv2.imwrite(\"Image_barcode_only.jpg\", get_barcode(image))"
   ],
   "metadata": {
    "collapsed": false,
    "pycharm": {
     "name": "#%%\n"
    }
   }
  },
  {
   "cell_type": "code",
   "execution_count": 9,
   "outputs": [],
   "source": [
    "# from pyzbar import pyzbar\n",
    "# results = {}\n",
    "# for i in tqdm(range(rows)):\n",
    "#     image_path = data.iloc[i]['complete_path']\n",
    "#     # decoded_img = cv2.imdecode(np.fromfile(image_path, np.uint8), cv2.IMREAD_GRAYSCALE)\n",
    "#     decoded_img = cv2.imdecode(np.fromfile(image_path, np.uint8), cv2.IMREAD_UNCHANGED)\n",
    "#     decoded_img = cv2.rotate(decoded_img, cv2.ROTATE_90_CLOCKWISE)\n",
    "#     if decoded_img is None:\n",
    "#         continue\n",
    "#     box = get_barcode(decoded_img)\n",
    "#     if box is None or box.shape[0] == 0 or box.shape[1] == 0:\n",
    "#         continue\n",
    "#     xmin = box[:,0].min()\n",
    "#     xmax = box[:,0].max()\n",
    "#     ymin = box[:,1].min()\n",
    "#     ymax = box[:,1].max()\n",
    "#     if xmin < 1 or ymin < 1:\n",
    "#         continue\n",
    "#     decoded_img = decoded_img[ymin:ymax,xmin:xmax, :]\n",
    "#     # cv2.imwrite(\"Image_gray_skidt.jpg\", decoded_img)\n",
    "#     # Decode the barcode image\n",
    "#     if decoded_img is not None:\n",
    "#         detectedBarcodes = decode(decoded_img)\n",
    "#\n",
    "#     if detectedBarcodes:\n",
    "#         results[i] = detectedBarcodes"
   ],
   "metadata": {
    "collapsed": false,
    "pycharm": {
     "name": "#%%\n"
    }
   }
  },
  {
   "cell_type": "code",
   "execution_count": 12,
   "outputs": [
    {
     "data": {
      "text/plain": "  0%|          | 0/3211 [00:00<?, ?it/s]",
      "application/vnd.jupyter.widget-view+json": {
       "version_major": 2,
       "version_minor": 0,
       "model_id": "95328976358044d4aa61dd0880143e08"
      }
     },
     "metadata": {},
     "output_type": "display_data"
    }
   ],
   "source": [
    "results = {}\n",
    "for i in tqdm(range(rows)):\n",
    "    image_path = data.iloc[i]['complete_path']\n",
    "    decoded_img = cv2.imdecode(np.fromfile(image_path, np.uint8), cv2.IMREAD_UNCHANGED)\n",
    "    rotated_decoded_img = cv2.rotate(decoded_img, cv2.ROTATE_90_CLOCKWISE)\n",
    "    # Decode the barcode image\n",
    "    detectedBarcodes = decode(rotated_decoded_img)\n",
    "\n",
    "    if detectedBarcodes:\n",
    "        results[i] = detectedBarcodes\n",
    "\n",
    "# from pyzbar import pyzbar\n",
    "# results = {}\n",
    "# for i in tqdm(range(rows)):\n",
    "#     image_path = data.iloc[i]['complete_path']\n",
    "#     # decoded_img = cv2.imdecode(np.fromfile(image_path, np.uint8), cv2.IMREAD_GRAYSCALE)\n",
    "#     decoded_img = cv2.imdecode(np.fromfile(image_path), cv2.IMREAD_UNCHANGED)\n",
    "#     rotated_decoded_img = cv2.rotate(decoded_img, cv2.ROTATE_90_CLOCKWISE)\n",
    "#     # cv2.imwrite(\"Image_gray_skidt.jpg\", decoded_img)\n",
    "#     # Decode the barcode image\n",
    "#     detectedBarcodes = decode(rotated_decoded_img)\n",
    "#\n",
    "#     if detectedBarcodes:\n",
    "#         results[i] = detectedBarcodes"
   ],
   "metadata": {
    "collapsed": false,
    "pycharm": {
     "name": "#%%\n"
    }
   }
  },
  {
   "cell_type": "code",
   "execution_count": null,
   "outputs": [],
   "source": [
    "# image_path = r\"D:\\DTU-D\\4\\Fagprojekt\\Data\\photos\\00a53a17-50db-4a3d-be1a-31ffd9537030\\image.jpg\"\n",
    "# decoded_img = cv2.imdecode(np.fromfile(image_path, np.uint8), cv2.IMREAD_UNCHANGED)\n",
    "#\n",
    "# gray = cv2.cvtColor(decoded_img, cv2.COLOR_BGR2GRAY)\n",
    "# _, thresh = cv2.threshold(gray, 120, 255, cv2.THRESH_BINARY_INV + cv2.THRESH_OTSU)\n",
    "# cv2.imwrite(\"Image_test_thresh.jpg\", thresh)"
   ],
   "metadata": {
    "collapsed": false,
    "pycharm": {
     "name": "#%%\n"
    }
   }
  },
  {
   "cell_type": "code",
   "execution_count": 17,
   "outputs": [],
   "source": [
    "# np.save(\"Results_06_06_2022_pyzbar_rotated\", results)\n",
    "\n",
    "# How to load:\n",
    "# Results_06_06_2022_pyzbar_rotated : 217 results\n",
    "# Results_06_06_2022_pyzbar_gray : 214 results\n",
    "# Results_04_06_2022_pyzbar : 204 results\n",
    "# import numpy as np\n",
    "# npzfile = np.load(r\"D:\\DTU-D\\4\\Fagprojekt\\Hardware-identification-and-QA\\Data exploration code\\Results_06_06_2022_pyzbar_rotated.npy\",\n",
    "#                   allow_pickle=True)\n",
    "# results = npzfile.item()"
   ],
   "metadata": {
    "collapsed": false,
    "pycharm": {
     "name": "#%%\n"
    }
   }
  },
  {
   "cell_type": "code",
   "execution_count": 30,
   "outputs": [],
   "source": [
    "import re\n",
    "correct_read_ids = []\n",
    "wat = 0\n",
    "for key in results:\n",
    "    result = results[key]\n",
    "    ground_truth = data.iloc[key]['meter_number']\n",
    "\n",
    "    # Not pretty but works\n",
    "    ground_truth = str(ground_truth).split(\",\")[0].replace(\"(\", \"\").replace(\")\", \"\").replace(\" \", \"\").replace(\"[\",\"\").replace(\"\\\"\",\"\")\n",
    "    ground_truth = re.sub(\"[^0-9]\", \"\", ground_truth)\n",
    "    for i in range(len(result)):\n",
    "        reading = result[i].data.decode(\"utf-8\")\n",
    "        if ground_truth == reading:\n",
    "            correct_read_ids.append(key)\n",
    "            break\n",
    "\n",
    "n_correct_readings = len(correct_read_ids)"
   ],
   "metadata": {
    "collapsed": false,
    "pycharm": {
     "name": "#%%\n"
    }
   }
  },
  {
   "cell_type": "code",
   "execution_count": 31,
   "outputs": [],
   "source": [
    "# Not beautiful but it works\n",
    "incorrect_readings = [key for key in results if key not in correct_read_ids]"
   ],
   "metadata": {
    "collapsed": false,
    "pycharm": {
     "name": "#%%\n"
    }
   }
  },
  {
   "cell_type": "code",
   "execution_count": null,
   "outputs": [],
   "source": [
    "idasdasd = 2838\n",
    "# idasdasd = 2076\n",
    "print(data.iloc[idasdasd])\n",
    "print(results[idasdasd])"
   ],
   "metadata": {
    "collapsed": false,
    "pycharm": {
     "name": "#%%\n"
    }
   }
  },
  {
   "cell_type": "code",
   "execution_count": 41,
   "outputs": [
    {
     "name": "stdout",
     "output_type": "stream",
     "text": [
      "819\n",
      "id                                                             819\n",
      "image_path       photos/d4d851a1-d3c6-4dc3-befc-576fa9798bfb/Ei...\n",
      "meter_number                                      7359992920593491\n",
      "project_id                    f13b2586-c376-4800-bb99-9630b68d54c6\n",
      "complete_path    D:/DTU-D/4/Fagprojekt/Data\\photos/d4d851a1-d3c...\n",
      "Name: 819, dtype: object\n",
      "[Decoded(data=b'HTTP://SCN.BY/9T7N6HN0RDQUMD', type='QRCODE', rect=Rect(left=416, top=3241, width=93, height=92), polygon=[Point(x=416, y=3251), Point(x=423, y=3333), Point(x=509, y=3324), Point(x=504, y=3241)], quality=1, orientation='LEFT')]\n",
      "-------------------------------------------\n",
      "912\n",
      "id                                                             912\n",
      "image_path       photos/a92c9ebb-9ded-462f-9a37-298814f5893f/20...\n",
      "meter_number                                      6970631403879720\n",
      "project_id                    ad24fcd0-e7e5-4218-81f9-d5c7b9312958\n",
      "complete_path    D:/DTU-D/4/Fagprojekt/Data\\photos/a92c9ebb-9de...\n",
      "Name: 912, dtype: object\n",
      "[Decoded(data=b'', type='CODE128', rect=Rect(left=1578, top=3027, width=0, height=0), polygon=[Point(x=1578, y=3027)], quality=1, orientation='DOWN')]\n",
      "-------------------------------------------\n",
      "935\n",
      "id                                                             935\n",
      "image_path       photos/c6520cd1-e424-423c-b38a-8c55b522bfda/20...\n",
      "meter_number                                      6970631403879720\n",
      "project_id                    ad24fcd0-e7e5-4218-81f9-d5c7b9312958\n",
      "complete_path    D:/DTU-D/4/Fagprojekt/Data\\photos/c6520cd1-e42...\n",
      "Name: 935, dtype: object\n",
      "[Decoded(data=b'', type='CODE128', rect=Rect(left=1578, top=3027, width=0, height=0), polygon=[Point(x=1578, y=3027)], quality=1, orientation='DOWN')]\n",
      "-------------------------------------------\n",
      "1142\n",
      "id                                                            1142\n",
      "image_path       photos/71b17574-0911-4365-a7c7-8b38ed04fa81/IM...\n",
      "meter_number                                      6970631402917782\n",
      "project_id                    6ec3153f-339d-4ac3-b34d-ce276d5b5b1b\n",
      "complete_path    D:/DTU-D/4/Fagprojekt/Data\\photos/71b17574-091...\n",
      "Name: 1142, dtype: object\n",
      "[Decoded(data=b'MBB', type='CODE128', rect=Rect(left=2636, top=173, width=12, height=110), polygon=[Point(x=2636, y=282), Point(x=2644, y=283), Point(x=2648, y=283), Point(x=2647, y=175), Point(x=2645, y=174), Point(x=2639, y=173), Point(x=2637, y=173)], quality=11, orientation='RIGHT')]\n",
      "-------------------------------------------\n",
      "1143\n",
      "id                                                            1143\n",
      "image_path       photos/673bad06-d419-468f-aee9-3ae8a31930e1/IM...\n",
      "meter_number                                      6970631402917782\n",
      "project_id                    6ec3153f-339d-4ac3-b34d-ce276d5b5b1b\n",
      "complete_path    D:/DTU-D/4/Fagprojekt/Data\\photos/673bad06-d41...\n",
      "Name: 1143, dtype: object\n",
      "[Decoded(data=b'MBB', type='CODE128', rect=Rect(left=2150, top=1038, width=25, height=135), polygon=[Point(x=2150, y=1172), Point(x=2170, y=1173), Point(x=2174, y=1173), Point(x=2175, y=1038), Point(x=2151, y=1038)], quality=10, orientation='RIGHT')]\n",
      "-------------------------------------------\n",
      "1232\n",
      "id                                                            1232\n",
      "image_path       photos/f0ab400a-1463-4fe3-b73a-309ecbe3ec9c/DS...\n",
      "meter_number                                      6970631405956887\n",
      "project_id                    b845a30a-f229-4771-8a0d-eb0432ee2cce\n",
      "complete_path    D:/DTU-D/4/Fagprojekt/Data\\photos/f0ab400a-146...\n",
      "Name: 1232, dtype: object\n",
      "[Decoded(data=b'MBB', type='CODE128', rect=Rect(left=1383, top=2318, width=115, height=36), polygon=[Point(x=1383, y=2331), Point(x=1383, y=2333), Point(x=1497, y=2354), Point(x=1498, y=2326), Point(x=1498, y=2318)], quality=11, orientation='UP')]\n",
      "-------------------------------------------\n",
      "1399\n",
      "id                                                            1399\n",
      "image_path       photos/2ff47e61-9c6d-4d7e-bb49-83a007cd30f7/IM...\n",
      "meter_number                                      7359992905370185\n",
      "project_id                    70960862-46ee-45f3-8ba0-a9fb32e880bf\n",
      "complete_path    D:/DTU-D/4/Fagprojekt/Data\\photos/2ff47e61-9c6...\n",
      "Name: 1399, dtype: object\n",
      "[Decoded(data=b'4015082853815', type='EAN13', rect=Rect(left=2142, top=1745, width=503, height=1854), polygon=[Point(x=2142, y=1745), Point(x=2142, y=1811), Point(x=2290, y=3599), Point(x=2645, y=3598), Point(x=2645, y=3588), Point(x=2641, y=3514), Point(x=2472, y=1748), Point(x=2471, y=1746)], quality=149, orientation='UP')]\n",
      "-------------------------------------------\n",
      "1401\n",
      "id                                                            1401\n",
      "image_path       photos/59cf7d89-a7a9-4190-bf3f-536b2b630a07/IM...\n",
      "meter_number                                      7359992905370185\n",
      "project_id                    70960862-46ee-45f3-8ba0-a9fb32e880bf\n",
      "complete_path    D:/DTU-D/4/Fagprojekt/Data\\photos/59cf7d89-a7a...\n",
      "Name: 1401, dtype: object\n",
      "[Decoded(data=b'4015082853815', type='EAN13', rect=Rect(left=157, top=1640, width=360, height=1907), polygon=[Point(x=157, y=1693), Point(x=183, y=3547), Point(x=517, y=1716), Point(x=517, y=1640), Point(x=158, y=1641)], quality=53, orientation='UP')]\n",
      "-------------------------------------------\n",
      "1683\n",
      "id                                                            1683\n",
      "image_path       photos/cb74a26c-d071-49d9-bda6-ba7976f011fe/Im...\n",
      "meter_number                                      6970631407508749\n",
      "project_id                    6988831a-cb24-471a-b64a-4f9997cf97ad\n",
      "complete_path    D:/DTU-D/4/Fagprojekt/Data\\photos/cb74a26c-d07...\n",
      "Name: 1683, dtype: object\n",
      "[Decoded(data=b'623666', type='I25', rect=Rect(left=787, top=1013, width=0, height=0), polygon=[Point(x=787, y=1013)], quality=1, orientation='LEFT')]\n",
      "-------------------------------------------\n",
      "1874\n",
      "id                                                            1875\n",
      "image_path       photos/245e3c9d-235b-45ca-9dd9-b0145112101d/IM...\n",
      "meter_number                                      7359992903274201\n",
      "project_id                    01daf365-db53-4709-932e-610c2c08f81d\n",
      "complete_path    D:/DTU-D/4/Fagprojekt/Data\\photos/245e3c9d-235...\n",
      "Name: 1875, dtype: object\n",
      "[Decoded(data=b'Q', type='CODE39', rect=Rect(left=410, top=4028, width=0, height=0), polygon=[Point(x=410, y=4028)], quality=1, orientation='LEFT')]\n",
      "-------------------------------------------\n",
      "1917\n",
      "id                                                            1918\n",
      "image_path       photos/1b8b6915-30d1-4121-a5c5-03da936b0132/im...\n",
      "meter_number                                      7359992894915589\n",
      "project_id                    a4716773-fe5b-4848-8e04-0687c85c500f\n",
      "complete_path    D:/DTU-D/4/Fagprojekt/Data\\photos/1b8b6915-30d...\n",
      "Name: 1918, dtype: object\n",
      "[Decoded(data=b'239647', type='I25', rect=Rect(left=1599, top=2381, width=0, height=0), polygon=[Point(x=1599, y=2381)], quality=1, orientation='DOWN')]\n",
      "-------------------------------------------\n",
      "1927\n",
      "id                                                            1928\n",
      "image_path       photos/8c0369aa-b838-442a-a752-b1140f05e6f1/16...\n",
      "meter_number                                      7359992901699358\n",
      "project_id                    92c02327-de34-435d-ab6d-ca4266971f0d\n",
      "complete_path    D:/DTU-D/4/Fagprojekt/Data\\photos/8c0369aa-b83...\n",
      "Name: 1928, dtype: object\n",
      "[Decoded(data=b'7090008552390', type='EAN13', rect=Rect(left=149, top=3357, width=63, height=205), polygon=[Point(x=149, y=3358), Point(x=150, y=3562), Point(x=208, y=3562), Point(x=212, y=3462), Point(x=203, y=3358), Point(x=173, y=3357)], quality=40, orientation='RIGHT')]\n",
      "-------------------------------------------\n",
      "2271\n",
      "id                                                            2556\n",
      "image_path       photos/34d02d38-c0d5-472c-bc7c-4600b6677905/FC...\n",
      "meter_number                                                   NaN\n",
      "project_id                    64e62ea9-746f-468e-882c-2d2e73369d7b\n",
      "complete_path    D:/DTU-D/4/Fagprojekt/Data\\photos/34d02d38-c0d...\n",
      "Name: 2556, dtype: object\n",
      "[Decoded(data=b'463008', type='CODE128', rect=Rect(left=391, top=2882, width=1, height=8), polygon=[Point(x=391, y=2890), Point(x=392, y=2884), Point(x=392, y=2882)], quality=3, orientation='DOWN')]\n",
      "-------------------------------------------\n",
      "2323\n",
      "id                                                            2608\n",
      "image_path       photos/bfa27a1f-677b-4154-b196-c16239071de7/20...\n",
      "meter_number                                                   NaN\n",
      "project_id                    2e397983-16c4-401f-b6aa-3c50f36ec03d\n",
      "complete_path    D:/DTU-D/4/Fagprojekt/Data\\photos/bfa27a1f-677...\n",
      "Name: 2608, dtype: object\n",
      "[Decoded(data=b'5706567272524372', type='CODE128', rect=Rect(left=814, top=2349, width=1, height=8), polygon=[Point(x=814, y=2349), Point(x=814, y=2355), Point(x=815, y=2357)], quality=3, orientation='UP')]\n",
      "-------------------------------------------\n",
      "2397\n",
      "id                                                            2682\n",
      "image_path       photos/cfdb3a75-87b2-4bc6-9e01-7f7645cfdab9/16...\n",
      "meter_number                                                   NaN\n",
      "project_id                    b6ce7fb7-de8f-48b4-99d3-f473c3501eba\n",
      "complete_path    D:/DTU-D/4/Fagprojekt/Data\\photos/cfdb3a75-87b...\n",
      "Name: 2682, dtype: object\n",
      "[Decoded(data=b'7312904762162', type='EAN13', rect=Rect(left=1836, top=2223, width=50, height=172), polygon=[Point(x=1836, y=2312), Point(x=1836, y=2395), Point(x=1864, y=2394), Point(x=1886, y=2393), Point(x=1885, y=2223), Point(x=1883, y=2223), Point(x=1847, y=2224)], quality=49, orientation='RIGHT')]\n",
      "-------------------------------------------\n",
      "2450\n",
      "id                                                            2735\n",
      "image_path       photos/f7f16a85-05ac-4603-88c6-a0aff96f9d29/20...\n",
      "meter_number                                                   NaN\n",
      "project_id                    e9559c43-5006-4bf6-8597-45b6cdcdb3b7\n",
      "complete_path    D:/DTU-D/4/Fagprojekt/Data\\photos/f7f16a85-05a...\n",
      "Name: 2735, dtype: object\n",
      "[Decoded(data=b'7312904782108', type='EAN13', rect=Rect(left=2402, top=2491, width=9, height=81), polygon=[Point(x=2402, y=2572), Point(x=2411, y=2568), Point(x=2409, y=2491), Point(x=2405, y=2491)], quality=5, orientation='RIGHT')]\n",
      "-------------------------------------------\n",
      "2520\n",
      "id                                                            2805\n",
      "image_path       photos/a7c133f6-6248-4d93-9c11-27b517943d36/16...\n",
      "meter_number                                                   NaN\n",
      "project_id                    4735f675-218c-48c2-ae7d-f10cd4ccde10\n",
      "complete_path    D:/DTU-D/4/Fagprojekt/Data\\photos/a7c133f6-624...\n",
      "Name: 2805, dtype: object\n",
      "[Decoded(data=b'7312904782061', type='EAN13', rect=Rect(left=183, top=192, width=33, height=150), polygon=[Point(x=183, y=196), Point(x=183, y=267), Point(x=184, y=342), Point(x=202, y=340), Point(x=214, y=338), Point(x=216, y=267), Point(x=215, y=192), Point(x=213, y=192), Point(x=197, y=194)], quality=42, orientation='LEFT')]\n",
      "-------------------------------------------\n",
      "2543\n",
      "id                                                            2828\n",
      "image_path       photos/ad3e25f1-4d31-4a80-85b8-601778b7d3ea/20...\n",
      "meter_number                                                   NaN\n",
      "project_id                    de39acc1-4161-4368-8aa2-4cea2bbf8aff\n",
      "complete_path    D:/DTU-D/4/Fagprojekt/Data\\photos/ad3e25f1-4d3...\n",
      "Name: 2828, dtype: object\n",
      "[Decoded(data=b'80043838826383848260', type='CODE128', rect=Rect(left=1008, top=3985, width=0, height=0), polygon=[Point(x=1008, y=3985)], quality=1, orientation='UP'), Decoded(data=b'7310380217176', type='EAN13', rect=Rect(left=1212, top=3619, width=129, height=43), polygon=[Point(x=1212, y=3619), Point(x=1212, y=3649), Point(x=1213, y=3661), Point(x=1279, y=3662), Point(x=1341, y=3662), Point(x=1341, y=3620)], quality=33, orientation='DOWN')]\n",
      "-------------------------------------------\n",
      "2549\n",
      "id                                                            2834\n",
      "image_path       photos/73fb9f90-b375-4a93-a07d-c3b58fe0cca8/IM...\n",
      "meter_number                                                   NaN\n",
      "project_id                    42a9dc5d-2cc4-4387-b74e-fc8cd202d00d\n",
      "complete_path    D:/DTU-D/4/Fagprojekt/Data\\photos/73fb9f90-b37...\n",
      "Name: 2834, dtype: object\n",
      "[Decoded(data=b'17589845', type='CODE128', rect=Rect(left=1007, top=912, width=0, height=0), polygon=[Point(x=1007, y=912)], quality=1, orientation='RIGHT')]\n",
      "-------------------------------------------\n",
      "2589\n",
      "id                                                            2874\n",
      "image_path       photos/2af6f311-bb56-4541-9341-699b0bc85fbf/im...\n",
      "meter_number                                                   NaN\n",
      "project_id                    1c27e8c0-efc1-4cac-a96d-8cfa63e72ede\n",
      "complete_path    D:/DTU-D/4/Fagprojekt/Data\\photos/2af6f311-bb5...\n",
      "Name: 2874, dtype: object\n",
      "[Decoded(data=b'8018735999114001974102', type='CODE128', rect=Rect(left=2318, top=629, width=0, height=0), polygon=[Point(x=2318, y=629)], quality=1, orientation='UP')]\n",
      "-------------------------------------------\n",
      "2593\n",
      "id                                                            2878\n",
      "image_path       photos/9ce766dc-31a8-4b9d-99ed-95c0f7ed1d84/im...\n",
      "meter_number                                                   NaN\n",
      "project_id                    b6f36e81-681d-4ed3-896c-2fc4066b60fc\n",
      "complete_path    D:/DTU-D/4/Fagprojekt/Data\\photos/9ce766dc-31a...\n",
      "Name: 2878, dtype: object\n",
      "[Decoded(data=b'7090008552376', type='EAN13', rect=Rect(left=2812, top=3501, width=211, height=27), polygon=[Point(x=2812, y=3509), Point(x=2812, y=3525), Point(x=2915, y=3527), Point(x=3023, y=3528), Point(x=3023, y=3524), Point(x=2916, y=3501), Point(x=2813, y=3501)], quality=32, orientation='UP')]\n",
      "-------------------------------------------\n",
      "2605\n",
      "id                                                            2890\n",
      "image_path       photos/047f785e-3082-447c-9867-06a51dab4945/sä...\n",
      "meter_number                                                   NaN\n",
      "project_id                    64210328-b697-4a27-8dab-f17c94f78e80\n",
      "complete_path    D:/DTU-D/4/Fagprojekt/Data\\photos/047f785e-308...\n",
      "Name: 2890, dtype: object\n",
      "[Decoded(data=b'962682', type='I25', rect=Rect(left=1567, top=2169, width=0, height=0), polygon=[Point(x=1567, y=2169)], quality=1, orientation='LEFT')]\n",
      "-------------------------------------------\n",
      "2640\n",
      "id                                                            2925\n",
      "image_path       photos/8e166ef5-4bdd-4159-a00c-dadc2cccc8ce/AD...\n",
      "meter_number                                                   NaN\n",
      "project_id                    3d1acc7e-9fd5-43db-9d66-d8fd2425b98a\n",
      "complete_path    D:/DTU-D/4/Fagprojekt/Data\\photos/8e166ef5-4bd...\n",
      "Name: 2925, dtype: object\n",
      "[Decoded(data=b'735999134000133317', type='CODE128', rect=Rect(left=1027, top=1490, width=239, height=60), polygon=[Point(x=1027, y=1491), Point(x=1027, y=1497), Point(x=1029, y=1531), Point(x=1030, y=1543), Point(x=1266, y=1550), Point(x=1266, y=1526), Point(x=1265, y=1504), Point(x=1264, y=1490)], quality=22, orientation='UP')]\n",
      "-------------------------------------------\n",
      "2658\n",
      "id                                                            2943\n",
      "image_path       photos/c8a89efd-14b1-46a9-8e23-2acfbced3449/2A...\n",
      "meter_number                                                   NaN\n",
      "project_id                    725ba10f-d74d-4d8e-95ac-8dc7f9942b6b\n",
      "complete_path    D:/DTU-D/4/Fagprojekt/Data\\photos/c8a89efd-14b...\n",
      "Name: 2943, dtype: object\n",
      "[Decoded(data=b'8018735999114001761160', type='CODE128', rect=Rect(left=2256, top=3415, width=0, height=22), polygon=[Point(x=2256, y=3415), Point(x=2256, y=3437)], quality=3, orientation='UP')]\n",
      "-------------------------------------------\n",
      "2682\n",
      "id                                                            2967\n",
      "image_path       photos/9ee8ed45-02f4-456c-a144-faa8a97a7ca4/F2...\n",
      "meter_number                                             324571246\n",
      "project_id                    ce8e5cd0-d1ff-4425-9f79-86977c162c82\n",
      "complete_path    D:/DTU-D/4/Fagprojekt/Data\\photos/9ee8ed45-02f...\n",
      "Name: 2967, dtype: object\n",
      "[Decoded(data=b'7312904782207', type='EAN13', rect=Rect(left=1632, top=236, width=389, height=140), polygon=[Point(x=1632, y=329), Point(x=1632, y=375), Point(x=1831, y=376), Point(x=2018, y=368), Point(x=2019, y=344), Point(x=2020, y=304), Point(x=2021, y=260), Point(x=2021, y=236), Point(x=1832, y=236), Point(x=1633, y=239)], quality=242, orientation='DOWN')]\n",
      "-------------------------------------------\n",
      "2830\n",
      "id                                                            3119\n",
      "image_path       photos/29556fce-570e-461e-99c7-caf3ed512ff0/EE...\n",
      "meter_number                               (8004) 5051639574327870\n",
      "project_id                    ab588648-0b95-46f5-a76e-38f09a84fd87\n",
      "complete_path    D:/DTU-D/4/Fagprojekt/Data\\photos/29556fce-570...\n",
      "Name: 3119, dtype: object\n",
      "[Decoded(data=b'470167', type='I25', rect=Rect(left=307, top=3436, width=0, height=0), polygon=[Point(x=307, y=3436)], quality=1, orientation='LEFT')]\n",
      "-------------------------------------------\n",
      "2931\n",
      "id                                                            3220\n",
      "image_path       photos/c667f090-2550-4b4b-8c75-d4b227b85b23/IM...\n",
      "meter_number                                                   NaN\n",
      "project_id                    2975f96a-dd4d-4c45-a1b9-1f065d2d3ae2\n",
      "complete_path    D:/DTU-D/4/Fagprojekt/Data\\photos/c667f090-255...\n",
      "Name: 3220, dtype: object\n",
      "[Decoded(data=b'83912463', type='I25', rect=Rect(left=2411, top=1519, width=32, height=163), polygon=[Point(x=2411, y=1520), Point(x=2416, y=1682), Point(x=2428, y=1682), Point(x=2443, y=1519), Point(x=2419, y=1519)], quality=8, orientation='RIGHT')]\n",
      "-------------------------------------------\n",
      "2945\n",
      "id                                                            3234\n",
      "image_path       photos/cb0a5644-f5f1-4dd9-8b36-9cf3e64c2ec6/20...\n",
      "meter_number                                      7359992903313320\n",
      "project_id                    90aa07f9-4d14-45ff-97cc-8580ae941ff2\n",
      "complete_path    D:/DTU-D/4/Fagprojekt/Data\\photos/cb0a5644-f5f...\n",
      "Name: 3234, dtype: object\n",
      "[Decoded(data=b'7290005303920', type='EAN13', rect=Rect(left=2690, top=1021, width=118, height=232), polygon=[Point(x=2690, y=1253), Point(x=2694, y=1252), Point(x=2704, y=1249), Point(x=2742, y=1237), Point(x=2788, y=1222), Point(x=2794, y=1220), Point(x=2808, y=1215), Point(x=2801, y=1021), Point(x=2789, y=1025), Point(x=2709, y=1055), Point(x=2697, y=1060), Point(x=2691, y=1155)], quality=136, orientation='LEFT'), Decoded(data=b'0011230000005', type='EAN13', rect=Rect(left=2680, top=691, width=70, height=111), polygon=[Point(x=2680, y=802), Point(x=2746, y=774), Point(x=2750, y=772), Point(x=2715, y=691)], quality=4, orientation='RIGHT')]\n",
      "-------------------------------------------\n",
      "2960\n",
      "id                                                            3249\n",
      "image_path       photos/59f052aa-e339-4044-b2ec-ea92a624dd4c/im...\n",
      "meter_number                                                   NaN\n",
      "project_id                    527f9a41-9bd5-40e9-9a88-73d7c3b305b5\n",
      "complete_path    D:/DTU-D/4/Fagprojekt/Data\\photos/59f052aa-e33...\n",
      "Name: 3249, dtype: object\n",
      "[Decoded(data=b'05015A8C6300', type='CODE39', rect=Rect(left=1621, top=2268, width=0, height=0), polygon=[Point(x=1621, y=2268)], quality=1, orientation='UP'), Decoded(data=b'44635095', type='CODE39', rect=Rect(left=1911, top=2140, width=0, height=0), polygon=[Point(x=1911, y=2140)], quality=1, orientation='UP')]\n",
      "-------------------------------------------\n",
      "3058\n",
      "id                                                            3347\n",
      "image_path       photos/2d59c243-2a63-4e3a-ab61-ec87e1e41b93/AB...\n",
      "meter_number                                                   NaN\n",
      "project_id                    1d50c8a6-d692-4f4f-9dcd-f2c94e9f1f04\n",
      "complete_path    D:/DTU-D/4/Fagprojekt/Data\\photos/2d59c243-2a6...\n",
      "Name: 3347, dtype: object\n",
      "[Decoded(data=b'5706567202751427', type='CODE128', rect=Rect(left=830, top=2851, width=297, height=9), polygon=[Point(x=830, y=2851), Point(x=830, y=2857), Point(x=1127, y=2860), Point(x=1127, y=2852)], quality=8, orientation='UP')]\n",
      "-------------------------------------------\n",
      "3133\n",
      "id                                                            3422\n",
      "image_path       photos/5388436a-b041-4a4b-bfa2-c1564cb00bd6/Ut...\n",
      "meter_number                                                   NaN\n",
      "project_id                    52f347a3-c0d6-4489-bd79-dcd45ba0b517\n",
      "complete_path    D:/DTU-D/4/Fagprojekt/Data\\photos/5388436a-b04...\n",
      "Name: 3422, dtype: object\n",
      "[Decoded(data=b'7312904782207', type='EAN13', rect=Rect(left=2031, top=2560, width=143, height=45), polygon=[Point(x=2031, y=2587), Point(x=2031, y=2595), Point(x=2099, y=2605), Point(x=2172, y=2602), Point(x=2173, y=2592), Point(x=2174, y=2572), Point(x=2174, y=2560), Point(x=2033, y=2561), Point(x=2032, y=2569)], quality=50, orientation='DOWN')]\n",
      "-------------------------------------------\n"
     ]
    }
   ],
   "source": [
    "for idx in incorrect_readings:\n",
    "    print(idx)\n",
    "    print(data.iloc[idx])\n",
    "    print(results[idx])\n",
    "    print(\"-------------------------------------------\")"
   ],
   "metadata": {
    "collapsed": false,
    "pycharm": {
     "name": "#%%\n"
    }
   }
  },
  {
   "cell_type": "code",
   "execution_count": 43,
   "outputs": [
    {
     "data": {
      "text/plain": "19.0"
     },
     "execution_count": 43,
     "metadata": {},
     "output_type": "execute_result"
    }
   ],
   "source": [
    "((186+4)/1000)*100"
   ],
   "metadata": {
    "collapsed": false,
    "pycharm": {
     "name": "#%%\n"
    }
   }
  }
 ],
 "metadata": {
  "kernelspec": {
   "display_name": "Python 3",
   "language": "python",
   "name": "python3"
  },
  "language_info": {
   "codemirror_mode": {
    "name": "ipython",
    "version": 2
   },
   "file_extension": ".py",
   "mimetype": "text/x-python",
   "name": "python",
   "nbconvert_exporter": "python",
   "pygments_lexer": "ipython2",
   "version": "2.7.6"
  }
 },
 "nbformat": 4,
 "nbformat_minor": 0
}