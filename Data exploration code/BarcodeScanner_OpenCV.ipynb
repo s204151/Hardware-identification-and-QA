{
 "cells": [
  {
   "cell_type": "code",
   "execution_count": 16,
   "outputs": [],
   "source": [
    "# import numpy as np\n",
    "# import cv2\n",
    "# import imutils"
   ],
   "metadata": {
    "collapsed": false,
    "pycharm": {
     "name": "#%%\n"
    }
   }
  },
  {
   "cell_type": "code",
   "execution_count": null,
   "outputs": [],
   "source": [
    "# # load the image and convert it to grayscale\n",
    "# def get_barcode(image_path):\n",
    "#     # image = cv2.imread(\"D:/DTU-D/4/Fagprojekt/Data/photos/00a53a17-50db-4a3d-be1a-31ffd9537030/image.jpg\")\n",
    "#     # image = cv2.imread(r\"D:\\DTU-D\\4\\Fagprojekt\\Data\\photos\\00dc11b6-bb75-4b9b-95c1-b4f247796b25\\20201120_0832291.jpg\")\n",
    "#     image = cv2.imread(r\"D:\\DTU-D\\4\\Fagprojekt\\Data\\photos\\00e98217-20c2-429a-aa1a-b8c183a84d24\\5AB1D358-F313-4107-9272-AA7D08D52804.jpeg\")\n",
    "#     # image = cv2.imread(r\"D:\\DTU-D\\4\\Fagprojekt\\Data\\photos\\0a000d87-9173-4bc3-a433-b77223437aa5\\IMG_0329.JPG\")\n",
    "#     gray = cv2.cvtColor(image, cv2.COLOR_BGR2GRAY)\n",
    "#     # compute the Scharr gradient magnitude representation of the images\n",
    "#     # in both the x and y direction\n",
    "#     gradX = cv2.Sobel(gray, ddepth = cv2.CV_32F, dx = 1, dy = 0, ksize = -1)\n",
    "#     gradY = cv2.Sobel(gray, ddepth = cv2.CV_32F, dx = 0, dy = 1, ksize = -1)\n",
    "#     # subtract the y-gradient from the x-gradient\n",
    "#     gradient = cv2.subtract(gradX, gradY)\n",
    "#     gradient = cv2.convertScaleAbs(gradient)\n",
    "#\n",
    "#     # blur and threshold the image\n",
    "#     blurred = cv2.blur(gradient, (9, 9))\n",
    "#     (_, thresh) = cv2.threshold(blurred, 225, 255, cv2.THRESH_BINARY)\n",
    "#\n",
    "#     # construct a closing kernel and apply it to the thresholded image\n",
    "#     kernel = cv2.getStructuringElement(cv2.MORPH_RECT, (21, 7))\n",
    "#     closed = cv2.morphologyEx(thresh, cv2.MORPH_CLOSE, kernel)\n",
    "#\n",
    "#     # perform a series of erosions and dilations\n",
    "#     closed = cv2.erode(closed, None, iterations = 4)\n",
    "#     closed = cv2.dilate(closed, None, iterations = 4)\n",
    "#\n",
    "#     # find the contours in the thresholded image, then sort the contours\n",
    "#     # by their area, keeping only the largest one\n",
    "#     cnts = cv2.findContours(closed.copy(), cv2.RETR_EXTERNAL,\n",
    "#                             cv2.CHAIN_APPROX_SIMPLE)\n",
    "#     cnts = imutils.grab_contours(cnts)\n",
    "#     c = sorted(cnts, key = cv2.contourArea, reverse = True)[0]\n",
    "#\n",
    "#     # compute the rotated bounding box of the largest contour\n",
    "#     rect = cv2.minAreaRect(c)\n",
    "#     box = cv2.cv.BoxPoints(rect) if imutils.is_cv2() else cv2.boxPoints(rect)\n",
    "#     box = np.int0(box)\n",
    "#\n",
    "#     # draw a bounding box arounded the detected barcode and display the\n",
    "#     # image\n",
    "#     cv2.drawContours(image, [box], -1, (0, 255, 0), 3)\n",
    "#     # cv2.imshow(\"Image\", image)\n",
    "#     # cv2.waitKey(0)\n",
    "#     # cv2.imwrite(\"Image.jpg\", image)\n",
    "# get_barcode(\"\")"
   ],
   "metadata": {
    "collapsed": false,
    "pycharm": {
     "name": "#%%\n",
     "is_executing": true
    }
   }
  },
  {
   "cell_type": "code",
   "execution_count": 4,
   "outputs": [
    {
     "ename": "KeyboardInterrupt",
     "evalue": "",
     "output_type": "error",
     "traceback": [
      "\u001B[1;31m---------------------------------------------------------------------------\u001B[0m",
      "\u001B[1;31mKeyboardInterrupt\u001B[0m                         Traceback (most recent call last)",
      "\u001B[1;32m~\\AppData\\Local\\Temp/ipykernel_123932/1479223091.py\u001B[0m in \u001B[0;36m<module>\u001B[1;34m\u001B[0m\n\u001B[0;32m     39\u001B[0m     \u001B[1;31m# cv2.waitKey(0)\u001B[0m\u001B[1;33m\u001B[0m\u001B[1;33m\u001B[0m\u001B[0m\n\u001B[0;32m     40\u001B[0m     \u001B[1;31m# cv2.destroyAllWindows()\u001B[0m\u001B[1;33m\u001B[0m\u001B[1;33m\u001B[0m\u001B[0m\n\u001B[1;32m---> 41\u001B[1;33m \u001B[0mBarcodeReader\u001B[0m\u001B[1;33m(\u001B[0m\u001B[1;34m\"D:/DTU-D/4/Fagprojekt/Data/photos/00a53a17-50db-4a3d-be1a-31ffd9537030/test.jpg\"\u001B[0m\u001B[1;33m)\u001B[0m\u001B[1;33m\u001B[0m\u001B[1;33m\u001B[0m\u001B[0m\n\u001B[0m",
      "\u001B[1;32m~\\AppData\\Local\\Temp/ipykernel_123932/1479223091.py\u001B[0m in \u001B[0;36mBarcodeReader\u001B[1;34m(image)\u001B[0m\n\u001B[0;32m     13\u001B[0m \u001B[1;33m\u001B[0m\u001B[0m\n\u001B[0;32m     14\u001B[0m     \u001B[1;31m# If not detected then print the message\u001B[0m\u001B[1;33m\u001B[0m\u001B[1;33m\u001B[0m\u001B[0m\n\u001B[1;32m---> 15\u001B[1;33m     \u001B[1;32mif\u001B[0m \u001B[1;32mnot\u001B[0m \u001B[0mdetectedBarcodes\u001B[0m\u001B[1;33m:\u001B[0m\u001B[1;33m\u001B[0m\u001B[1;33m\u001B[0m\u001B[0m\n\u001B[0m\u001B[0;32m     16\u001B[0m         \u001B[0mprint\u001B[0m\u001B[1;33m(\u001B[0m\u001B[1;34m\"Barcode Not Detected or your barcode is blank/corrupted!\"\u001B[0m\u001B[1;33m)\u001B[0m\u001B[1;33m\u001B[0m\u001B[1;33m\u001B[0m\u001B[0m\n\u001B[0;32m     17\u001B[0m     \u001B[1;32melse\u001B[0m\u001B[1;33m:\u001B[0m\u001B[1;33m\u001B[0m\u001B[1;33m\u001B[0m\u001B[0m\n",
      "\u001B[1;32m~\\AppData\\Local\\Temp/ipykernel_123932/1479223091.py\u001B[0m in \u001B[0;36mBarcodeReader\u001B[1;34m(image)\u001B[0m\n\u001B[0;32m     13\u001B[0m \u001B[1;33m\u001B[0m\u001B[0m\n\u001B[0;32m     14\u001B[0m     \u001B[1;31m# If not detected then print the message\u001B[0m\u001B[1;33m\u001B[0m\u001B[1;33m\u001B[0m\u001B[0m\n\u001B[1;32m---> 15\u001B[1;33m     \u001B[1;32mif\u001B[0m \u001B[1;32mnot\u001B[0m \u001B[0mdetectedBarcodes\u001B[0m\u001B[1;33m:\u001B[0m\u001B[1;33m\u001B[0m\u001B[1;33m\u001B[0m\u001B[0m\n\u001B[0m\u001B[0;32m     16\u001B[0m         \u001B[0mprint\u001B[0m\u001B[1;33m(\u001B[0m\u001B[1;34m\"Barcode Not Detected or your barcode is blank/corrupted!\"\u001B[0m\u001B[1;33m)\u001B[0m\u001B[1;33m\u001B[0m\u001B[1;33m\u001B[0m\u001B[0m\n\u001B[0;32m     17\u001B[0m     \u001B[1;32melse\u001B[0m\u001B[1;33m:\u001B[0m\u001B[1;33m\u001B[0m\u001B[1;33m\u001B[0m\u001B[0m\n",
      "\u001B[1;32m_pydevd_bundle\\pydevd_cython_win32_39_64.pyx\u001B[0m in \u001B[0;36m_pydevd_bundle.pydevd_cython_win32_39_64.SafeCallWrapper.__call__\u001B[1;34m()\u001B[0m\n",
      "\u001B[1;32m_pydevd_bundle\\pydevd_cython_win32_39_64.pyx\u001B[0m in \u001B[0;36m_pydevd_bundle.pydevd_cython_win32_39_64.PyDBFrame.trace_dispatch\u001B[1;34m()\u001B[0m\n",
      "\u001B[1;32m_pydevd_bundle\\pydevd_cython_win32_39_64.pyx\u001B[0m in \u001B[0;36m_pydevd_bundle.pydevd_cython_win32_39_64.PyDBFrame.trace_dispatch\u001B[1;34m()\u001B[0m\n",
      "\u001B[1;32m_pydevd_bundle\\pydevd_cython_win32_39_64.pyx\u001B[0m in \u001B[0;36m_pydevd_bundle.pydevd_cython_win32_39_64.PyDBFrame.trace_dispatch\u001B[1;34m()\u001B[0m\n",
      "\u001B[1;32m_pydevd_bundle\\pydevd_cython_win32_39_64.pyx\u001B[0m in \u001B[0;36m_pydevd_bundle.pydevd_cython_win32_39_64.PyDBFrame.do_wait_suspend\u001B[1;34m()\u001B[0m\n",
      "\u001B[1;32mC:\\Program Files\\JetBrains\\DataSpell 2021.3.2\\plugins\\python-ce\\helpers\\pydev\\pydevd.py\u001B[0m in \u001B[0;36mdo_wait_suspend\u001B[1;34m(self, thread, frame, event, arg, send_suspend_message, is_unhandled_exception)\u001B[0m\n\u001B[0;32m   1145\u001B[0m \u001B[1;33m\u001B[0m\u001B[0m\n\u001B[0;32m   1146\u001B[0m         \u001B[1;32mwith\u001B[0m \u001B[0mself\u001B[0m\u001B[1;33m.\u001B[0m\u001B[0m_threads_suspended_single_notification\u001B[0m\u001B[1;33m.\u001B[0m\u001B[0mnotify_thread_suspended\u001B[0m\u001B[1;33m(\u001B[0m\u001B[0mthread_id\u001B[0m\u001B[1;33m,\u001B[0m \u001B[0mstop_reason\u001B[0m\u001B[1;33m)\u001B[0m\u001B[1;33m:\u001B[0m\u001B[1;33m\u001B[0m\u001B[1;33m\u001B[0m\u001B[0m\n\u001B[1;32m-> 1147\u001B[1;33m             \u001B[0mself\u001B[0m\u001B[1;33m.\u001B[0m\u001B[0m_do_wait_suspend\u001B[0m\u001B[1;33m(\u001B[0m\u001B[0mthread\u001B[0m\u001B[1;33m,\u001B[0m \u001B[0mframe\u001B[0m\u001B[1;33m,\u001B[0m \u001B[0mevent\u001B[0m\u001B[1;33m,\u001B[0m \u001B[0marg\u001B[0m\u001B[1;33m,\u001B[0m \u001B[0msuspend_type\u001B[0m\u001B[1;33m,\u001B[0m \u001B[0mfrom_this_thread\u001B[0m\u001B[1;33m)\u001B[0m\u001B[1;33m\u001B[0m\u001B[1;33m\u001B[0m\u001B[0m\n\u001B[0m\u001B[0;32m   1148\u001B[0m \u001B[1;33m\u001B[0m\u001B[0m\n\u001B[0;32m   1149\u001B[0m     \u001B[1;32mdef\u001B[0m \u001B[0m_do_wait_suspend\u001B[0m\u001B[1;33m(\u001B[0m\u001B[0mself\u001B[0m\u001B[1;33m,\u001B[0m \u001B[0mthread\u001B[0m\u001B[1;33m,\u001B[0m \u001B[0mframe\u001B[0m\u001B[1;33m,\u001B[0m \u001B[0mevent\u001B[0m\u001B[1;33m,\u001B[0m \u001B[0marg\u001B[0m\u001B[1;33m,\u001B[0m \u001B[0msuspend_type\u001B[0m\u001B[1;33m,\u001B[0m \u001B[0mfrom_this_thread\u001B[0m\u001B[1;33m)\u001B[0m\u001B[1;33m:\u001B[0m\u001B[1;33m\u001B[0m\u001B[1;33m\u001B[0m\u001B[0m\n",
      "\u001B[1;32mC:\\Program Files\\JetBrains\\DataSpell 2021.3.2\\plugins\\python-ce\\helpers\\pydev\\pydevd.py\u001B[0m in \u001B[0;36m_do_wait_suspend\u001B[1;34m(self, thread, frame, event, arg, suspend_type, from_this_thread)\u001B[0m\n\u001B[0;32m   1160\u001B[0m \u001B[1;33m\u001B[0m\u001B[0m\n\u001B[0;32m   1161\u001B[0m                 \u001B[0mself\u001B[0m\u001B[1;33m.\u001B[0m\u001B[0mprocess_internal_commands\u001B[0m\u001B[1;33m(\u001B[0m\u001B[1;33m)\u001B[0m\u001B[1;33m\u001B[0m\u001B[1;33m\u001B[0m\u001B[0m\n\u001B[1;32m-> 1162\u001B[1;33m                 \u001B[0mtime\u001B[0m\u001B[1;33m.\u001B[0m\u001B[0msleep\u001B[0m\u001B[1;33m(\u001B[0m\u001B[1;36m0.01\u001B[0m\u001B[1;33m)\u001B[0m\u001B[1;33m\u001B[0m\u001B[1;33m\u001B[0m\u001B[0m\n\u001B[0m\u001B[0;32m   1163\u001B[0m \u001B[1;33m\u001B[0m\u001B[0m\n\u001B[0;32m   1164\u001B[0m         \u001B[0mself\u001B[0m\u001B[1;33m.\u001B[0m\u001B[0mcancel_async_evaluation\u001B[0m\u001B[1;33m(\u001B[0m\u001B[0mget_current_thread_id\u001B[0m\u001B[1;33m(\u001B[0m\u001B[0mthread\u001B[0m\u001B[1;33m)\u001B[0m\u001B[1;33m,\u001B[0m \u001B[0mstr\u001B[0m\u001B[1;33m(\u001B[0m\u001B[0mid\u001B[0m\u001B[1;33m(\u001B[0m\u001B[0mframe\u001B[0m\u001B[1;33m)\u001B[0m\u001B[1;33m)\u001B[0m\u001B[1;33m)\u001B[0m\u001B[1;33m\u001B[0m\u001B[1;33m\u001B[0m\u001B[0m\n",
      "\u001B[1;31mKeyboardInterrupt\u001B[0m: "
     ]
    }
   ],
   "source": [
    "# # Importing library\n",
    "# import cv2\n",
    "# from pyzbar.pyzbar import decode\n",
    "#\n",
    "# # Make one method to decode the barcode\n",
    "# def BarcodeReader(image):\n",
    "#\n",
    "#     # read the image in numpy array using cv2\n",
    "#     img = cv2.imread(image)\n",
    "#\n",
    "#     # Decode the barcode image\n",
    "#     detectedBarcodes = decode(img)\n",
    "#\n",
    "#     # If not detected then print the message\n",
    "#     if not detectedBarcodes:\n",
    "#         print(\"Barcode Not Detected or your barcode is blank/corrupted!\")\n",
    "#     else:\n",
    "#\n",
    "#         # Traverse through all the detected barcodes in image\n",
    "#         for barcode in detectedBarcodes:\n",
    "#\n",
    "#             # Locate the barcode position in image\n",
    "#             (x, y, w, h) = barcode.rect\n",
    "#\n",
    "#             # Put the rectangle in image using\n",
    "#             # cv2 to heighlight the barcode\n",
    "#             cv2.rectangle(img, (x-10, y-10),\n",
    "#                           (x + w+10, y + h+10),\n",
    "#                           (255, 0, 0), 2)\n",
    "#\n",
    "#             if barcode.data!=\"\":\n",
    "#\n",
    "#                 # Print the barcode data\n",
    "#                 print(barcode.data)\n",
    "#                 print(barcode.type)\n",
    "#\n",
    "#     #Display the image\n",
    "#     # cv2.imshow(\"Image\", img)\n",
    "#     # cv2.waitKey(0)\n",
    "#     # cv2.destroyAllWindows()\n",
    "# BarcodeReader(\"D:/DTU-D/4/Fagprojekt/Data/photos/00a53a17-50db-4a3d-be1a-31ffd9537030/test.jpg\")"
   ],
   "metadata": {
    "collapsed": false,
    "pycharm": {
     "name": "#%%\n"
    }
   }
  },
  {
   "cell_type": "code",
   "execution_count": 1,
   "outputs": [],
   "source": [
    "import cv2\n",
    "from pyzbar.pyzbar import decode\n",
    "from pyzbar.pyzbar import ZBarSymbol\n",
    "\n",
    "pic_path = \"D:/DTU-D/4/Fagprojekt/Data/photos/00a53a17-50db-4a3d-be1a-31ffd9537030/test.jpg\"\n",
    "# preprocessing using opencv\n",
    "im = cv2.imread(pic_path, cv2.IMREAD_GRAYSCALE)\n",
    "ret, bw_im = cv2.threshold(im, 127, 255, cv2.THRESH_BINARY)\n",
    "# zbar\n",
    "barcodes = decode(bw_im, symbols=[ZBarSymbol.CODE93])"
   ],
   "metadata": {
    "collapsed": false,
    "pycharm": {
     "name": "#%%\n"
    }
   }
  },
  {
   "cell_type": "code",
   "execution_count": 1,
   "outputs": [],
   "source": [
    "import pandas as pd\n",
    "import os\n",
    "import numpy as np\n",
    "from tqdm.notebook import tqdm\n",
    "import cv2\n",
    "from pyzbar.pyzbar import decode\n",
    "\n",
    "rootPath = \"D:/DTU-D/4/Fagprojekt/Data\"\n",
    "csvName = \"labels.csv\"\n",
    "csvName2 = \"labels2.csv\"\n",
    "\n",
    "data = pd.concat([\n",
    "    pd.read_csv(os.path.join(rootPath,csvName)),\n",
    "    pd.read_csv(os.path.join(rootPath,csvName2))\n",
    "], ignore_index=True)\n",
    "data.drop([\"Unnamed: 0\"],axis=1,inplace=True)\n",
    "\n",
    "batch = 1\n",
    "# data.drop(data.index[[1711]], inplace=True) #GIF\n",
    "data.drop(data.index[[3033,3034,3035]], inplace=True) #Corrupted pictures\n",
    "rows = data.shape[0]"
   ],
   "metadata": {
    "collapsed": false,
    "pycharm": {
     "name": "#%%\n"
    }
   }
  },
  {
   "cell_type": "code",
   "execution_count": 2,
   "outputs": [
    {
     "data": {
      "text/plain": "  0%|          | 0/3498 [00:00<?, ?it/s]",
      "application/vnd.jupyter.widget-view+json": {
       "version_major": 2,
       "version_minor": 0,
       "model_id": "81b55a28e77f4222a7d77e1fa044062a"
      }
     },
     "metadata": {},
     "output_type": "display_data"
    }
   ],
   "source": [
    "# Preprocess image paths\n",
    "new_paths = []\n",
    "to_remove = []\n",
    "for i in tqdm(range(rows)):\n",
    "    image_path = data.iloc[i]['image_path'].lower()\n",
    "    if image_path.endswith(\"gif\") or image_path.endswith(\"pdf\"):\n",
    "        to_remove.append(i)\n",
    "    # The replaced letters are NOT the same. There is a mismatch between the csv file and the actual picture name\n",
    "    if \"ä\" in image_path:\n",
    "        image_path = image_path.replace(\"ä\", \"ä\")\n",
    "    if \"å\" in image_path:\n",
    "        image_path = image_path.replace(\"å\", \"å\")\n",
    "    if \"ö\" in image_path:\n",
    "        image_path = image_path.replace(\"ö\", \"ö\")\n",
    "    path = os.path.join(rootPath,image_path)\n",
    "    new_paths.append(path)\n",
    "data['complete_path'] = new_paths\n",
    "data.drop(data.index[to_remove], inplace=True) #gif or pdf\n",
    "rows = data.shape[0]"
   ],
   "metadata": {
    "collapsed": false,
    "pycharm": {
     "name": "#%%\n"
    }
   }
  },
  {
   "cell_type": "code",
   "execution_count": 5,
   "outputs": [
    {
     "data": {
      "text/plain": "  0%|          | 0/3211 [00:00<?, ?it/s]",
      "application/vnd.jupyter.widget-view+json": {
       "version_major": 2,
       "version_minor": 0,
       "model_id": "5e92eb130abc4aa28c006b3f87336ea2"
      }
     },
     "metadata": {},
     "output_type": "display_data"
    }
   ],
   "source": [
    "results = {}\n",
    "for i in tqdm(range(rows)):\n",
    "    image_path = data.iloc[i]['complete_path']\n",
    "    decoded_img = cv2.imdecode(np.fromfile(image_path, np.uint8), cv2.IMREAD_UNCHANGED)\n",
    "\n",
    "    # Decode the barcode image\n",
    "    detectedBarcodes = decode(decoded_img)\n",
    "\n",
    "    if detectedBarcodes:\n",
    "        results[i] = detectedBarcodes"
   ],
   "metadata": {
    "collapsed": false,
    "pycharm": {
     "name": "#%%\n"
    }
   }
  },
  {
   "cell_type": "code",
   "execution_count": 23,
   "outputs": [],
   "source": [
    "# np.save(\"Results_04_06_2022_pyzbar\", results)\n",
    "\n",
    "# How to load:\n",
    "# import numpy as np\n",
    "# npzfile = np.load(r\"D:\\DTU-D\\4\\Fagprojekt\\Hardware-identification-and-QA\\Data exploration code\\Results_04_06_2022_pyzbar.npy\",\n",
    "#                   allow_pickle=True)\n",
    "# npzfile.item().get(12)"
   ],
   "metadata": {
    "collapsed": false,
    "pycharm": {
     "name": "#%%\n"
    }
   }
  },
  {
   "cell_type": "code",
   "execution_count": 18,
   "outputs": [],
   "source": [
    "correct_read_ids = []\n",
    "wat = 0\n",
    "for key in results:\n",
    "    result = results[key]\n",
    "    ground_truth = data.iloc[key]['meter_number']\n",
    "\n",
    "    for i in range(len(result)):\n",
    "        reading = result[i].data.decode(\"utf-8\")\n",
    "        if ground_truth == reading:\n",
    "            correct_read_ids.append(key)\n",
    "            break\n",
    "\n",
    "n_correct_readings = len(correct_read_ids)"
   ],
   "metadata": {
    "collapsed": false,
    "pycharm": {
     "name": "#%%\n"
    }
   }
  },
  {
   "cell_type": "code",
   "execution_count": 35,
   "outputs": [],
   "source": [
    "# Not beautiful but it works\n",
    "incorrect_readings = [key for key in results if key not in correct_read_ids]"
   ],
   "metadata": {
    "collapsed": false,
    "pycharm": {
     "name": "#%%\n"
    }
   }
  },
  {
   "cell_type": "code",
   "execution_count": 61,
   "outputs": [
    {
     "name": "stdout",
     "output_type": "stream",
     "text": [
      "image_path       photos/85f71492-dd12-44a0-86af-d8ec015ac14e/im...\n",
      "meter_number                                                   NaN\n",
      "project_id                    206fd8b6-db35-4382-a5f2-7df93e73f326\n",
      "complete_path    D:/DTU-D/4/Fagprojekt/Data\\photos/85f71492-dd1...\n",
      "Name: 2137, dtype: object\n",
      "[Decoded(data=b'5706567288837602', type='CODE128', rect=Rect(left=2598, top=1576, width=13, height=336), polygon=[Point(x=2598, y=1912), Point(x=2608, y=1912), Point(x=2611, y=1576), Point(x=2599, y=1576)], quality=6, orientation='LEFT')]\n"
     ]
    }
   ],
   "source": [
    "idasdasd = 2136\n",
    "print(data.iloc[idasdasd])\n",
    "print(results[idasdasd])"
   ],
   "metadata": {
    "collapsed": false,
    "pycharm": {
     "name": "#%%\n"
    }
   }
  }
 ],
 "metadata": {
  "kernelspec": {
   "display_name": "Python 3",
   "language": "python",
   "name": "python3"
  },
  "language_info": {
   "codemirror_mode": {
    "name": "ipython",
    "version": 2
   },
   "file_extension": ".py",
   "mimetype": "text/x-python",
   "name": "python",
   "nbconvert_exporter": "python",
   "pygments_lexer": "ipython2",
   "version": "2.7.6"
  }
 },
 "nbformat": 4,
 "nbformat_minor": 0
}