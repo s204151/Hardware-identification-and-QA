{
 "cells": [
  {
   "cell_type": "code",
   "execution_count": 167,
   "metadata": {
    "collapsed": true
   },
   "outputs": [],
   "source": [
    "import numpy as np\n",
    "import pandas as pd\n",
    "import os\n",
    "npzfile = np.load(\"D:/DTU - D/4/Fagprojekt/NoteBook_project/dsProject/Variables_results_17_03_2022_detailsOn.npz\",allow_pickle=True)\n",
    "bbox_column_nr = 0\n",
    "text_column_nr = 1\n",
    "conf_column_nr = 2\n",
    "rootPath = \"D:/DTU - D/4/Fagprojekt/Data\"\n",
    "csvName = \"labels.csv\"\n",
    "data = pd.read_csv(os.path.join(rootPath,csvName))\n",
    "data.drop(1711, inplace=True) #GIF"
   ]
  },
  {
   "cell_type": "code",
   "execution_count": 4,
   "outputs": [
    {
     "data": {
      "text/plain": "['correctIn', 'ground_truth', 'resolutions', 'results', 'unique_reso']"
     },
     "execution_count": 4,
     "metadata": {},
     "output_type": "execute_result"
    }
   ],
   "source": [
    "npzfile.files"
   ],
   "metadata": {
    "collapsed": false,
    "pycharm": {
     "name": "#%%\n"
    }
   }
  },
  {
   "cell_type": "code",
   "execution_count": 8,
   "outputs": [],
   "source": [
    "correctIn = npzfile[\"correctIn\"]\n",
    "ground_truth = npzfile[\"ground_truth\"]\n",
    "resolutions = npzfile[\"resolutions\"]\n",
    "results = npzfile[\"results\"]\n",
    "unique_reso = npzfile[\"unique_reso\"]"
   ],
   "metadata": {
    "collapsed": false,
    "pycharm": {
     "name": "#%%\n"
    }
   }
  },
  {
   "cell_type": "code",
   "execution_count": 217,
   "outputs": [],
   "source": [
    "results_delta = [[] for i in range(50)]\n",
    "n_correct = 0\n",
    "for i in range(len(results)):\n",
    "    readings = np.array(results[i],dtype=object)\n",
    "    len_readings = len(readings)\n",
    "\n",
    "    # Ugly, I know :(\n",
    "    if len_readings > 0:\n",
    "        readings = readings[:,text_column_nr]\n",
    "\n",
    "    for j in range(len_readings):\n",
    "        reading = readings[j]\n",
    "        if reading == ground_truth[i]:\n",
    "            results_delta[0].append(i)\n",
    "            break\n",
    "\n",
    "        for k in range(len(reading)):\n",
    "            removed_reading = reading[:k] + reading[k + 1:]\n",
    "            wat = ground_truth[i]\n",
    "            if removed_reading == ground_truth[i]:\n",
    "                results_delta[1].append(i)\n",
    "                break\n",
    "        else:\n",
    "            continue\n",
    "        break"
   ],
   "metadata": {
    "collapsed": false,
    "pycharm": {
     "name": "#%%\n"
    }
   }
  },
  {
   "cell_type": "code",
   "execution_count": 159,
   "outputs": [
    {
     "data": {
      "text/plain": "                                             image_path\n3     photos/6d8b9799-0d6d-451c-b76b-7bf2ad468bc4/0E...\n12    photos/fc779805-0a44-42a4-bc30-4d32ef353c28/im...\n17    photos/6787ea57-ece6-4cfa-a113-4f9ef24cd3f6/3B...\n19    photos/9c5efa97-9eb9-44ae-9e50-01b4444bfc3c/26...\n38    photos/28309a3e-cbe7-4ed9-8f6d-567df1c42fd7/20...\n...                                                 ...\n1973  photos/5c906e1a-d956-49a5-9a53-983da28418b3/DS...\n1978  photos/b6ff8774-4007-45d7-88b8-f6f93cf28079/44...\n2015  photos/96dea273-841d-4a58-92c6-de4c4585b128/1C...\n2020  photos/cf5eb3cf-3bd9-4577-bd8e-8e89512f09c9/5D...\n2046  photos/6e64b0f9-5fb0-441e-aab5-b246331f0753/im...\n\n[117 rows x 1 columns]",
      "text/html": "<div>\n<style scoped>\n    .dataframe tbody tr th:only-of-type {\n        vertical-align: middle;\n    }\n\n    .dataframe tbody tr th {\n        vertical-align: top;\n    }\n\n    .dataframe thead th {\n        text-align: right;\n    }\n</style>\n<table border=\"1\" class=\"dataframe\">\n  <thead>\n    <tr style=\"text-align: right;\">\n      <th></th>\n      <th>image_path</th>\n    </tr>\n  </thead>\n  <tbody>\n    <tr>\n      <th>3</th>\n      <td>photos/6d8b9799-0d6d-451c-b76b-7bf2ad468bc4/0E...</td>\n    </tr>\n    <tr>\n      <th>12</th>\n      <td>photos/fc779805-0a44-42a4-bc30-4d32ef353c28/im...</td>\n    </tr>\n    <tr>\n      <th>17</th>\n      <td>photos/6787ea57-ece6-4cfa-a113-4f9ef24cd3f6/3B...</td>\n    </tr>\n    <tr>\n      <th>19</th>\n      <td>photos/9c5efa97-9eb9-44ae-9e50-01b4444bfc3c/26...</td>\n    </tr>\n    <tr>\n      <th>38</th>\n      <td>photos/28309a3e-cbe7-4ed9-8f6d-567df1c42fd7/20...</td>\n    </tr>\n    <tr>\n      <th>...</th>\n      <td>...</td>\n    </tr>\n    <tr>\n      <th>1973</th>\n      <td>photos/5c906e1a-d956-49a5-9a53-983da28418b3/DS...</td>\n    </tr>\n    <tr>\n      <th>1978</th>\n      <td>photos/b6ff8774-4007-45d7-88b8-f6f93cf28079/44...</td>\n    </tr>\n    <tr>\n      <th>2015</th>\n      <td>photos/96dea273-841d-4a58-92c6-de4c4585b128/1C...</td>\n    </tr>\n    <tr>\n      <th>2020</th>\n      <td>photos/cf5eb3cf-3bd9-4577-bd8e-8e89512f09c9/5D...</td>\n    </tr>\n    <tr>\n      <th>2046</th>\n      <td>photos/6e64b0f9-5fb0-441e-aab5-b246331f0753/im...</td>\n    </tr>\n  </tbody>\n</table>\n<p>117 rows × 1 columns</p>\n</div>"
     },
     "execution_count": 159,
     "metadata": {},
     "output_type": "execute_result"
    }
   ],
   "source": [
    "# 119/1327*100\n",
    "data.iloc[results_delta[0]].filter(items=['image_path'])"
   ],
   "metadata": {
    "collapsed": false,
    "pycharm": {
     "name": "#%%\n"
    }
   }
  },
  {
   "cell_type": "code",
   "execution_count": 160,
   "outputs": [
    {
     "data": {
      "text/plain": "                                             image_path\n36    photos/9dae48af-be71-44d1-b116-eeac179e1415/E5...\n41    photos/fb40331d-31a3-436f-b7b1-7fa8fb9327fe/Si...\n54    photos/944a2958-4b2d-40fe-8d75-88999828831d/Si...\n84    photos/294a0a4d-d5d7-45f6-a841-d9a7c114b26f/DS...\n227   photos/36170d74-bf27-4ad4-9c90-b0113c485251/IM...\n285   photos/217b5c0d-e279-478e-8b13-1fbcc9e7e958/IM...\n350   photos/0a03710f-40ce-4fb0-99b9-3167b6c7a40b/3E...\n420   photos/d54aaca2-39d3-490b-9f98-3f251edf09e5/si...\n434   photos/d5227ecd-05f4-4c3f-a308-5366fd8dbd4a/im...\n470   photos/0f111cf8-ff3f-492e-9b2b-caac9f6c0d91/im...\n484   photos/596b1194-eb81-4291-b716-f9cb88d831eb/IM...\n503   photos/7d5ceb1c-f154-4135-83f7-63cfd3571dab/im...\n514   photos/9e836bbd-e971-4636-ba2c-9ea585bb895c/si...\n531   photos/121d6fe5-7ba8-46fa-91e6-b973e8ae9507/41...\n539   photos/8b3f9ef7-9ce0-45c9-942e-9d8ff478281e/DS...\n582   photos/7e94f354-0227-4155-baf2-88694445e662/AD...\n600   photos/cb32a04a-54ff-4129-8d49-aab5294af46c/15...\n615   photos/72906b59-d492-436b-90e5-ec32791bde2d/IM...\n678   photos/328b7745-1e6d-4e44-bd95-cc2cb7df880d/20...\n720   photos/3d0dc4de-7c91-4c83-982d-c89f0950239f/E5...\n744   photos/2c40a9b1-4c8d-4619-bc1d-9b3169061a18/20...\n836   photos/7f2563a9-9b1f-4232-bf81-5992a188e70b/EE...\n986   photos/2dd00910-dbeb-4920-a7ea-c03b011c22cc/IM...\n996   photos/fe67b488-957a-4eb1-a5a3-8074a9e89160/20...\n997   photos/fe3639d5-8905-4d8b-a5ce-4ce0b0804c6e/20...\n1024  photos/7c61f12e-9c83-499e-af68-22c51ea98b2f/IM...\n1109  photos/87d78c46-04ce-40c1-afed-b1d752be0fc4/IM...\n1255  photos/0583d6be-2159-452e-9860-d39ffe94a4b5/IM...\n1303  photos/f73d09c1-cc01-4297-b2d8-87e4043d970c/20...\n1411  photos/842a03e5-4a33-41a6-9eb6-60fb0c5a8859/15...\n1483  photos/9e70b45f-71a5-430e-b0a4-0d93a1e21639/F9...\n1494  photos/158176c7-9198-4d33-a40e-eca23e959faf/20...\n1506  photos/0b9ae6ae-f967-4eb3-b95e-f02112739501/16...\n1538  photos/f9425e31-f03d-422b-aa37-2a1bdffe4e4d/20...\n1656  photos/3ca696cb-c5eb-48f1-9bc5-8a7bb09fec0d/P7...\n1773  photos/0a06d010-146a-482d-8993-f61497affec3/BC...\n1816  photos/b9a2618e-87f2-410e-a2cd-0d3a69d97673/AA...\n1922  photos/1ed50a87-7907-46b4-a61d-a7c84e5ddcd2/IM...\n1981  photos/d4ac6945-e92d-4207-bb5c-a3063e52e20a/20...\n2058  photos/f8d0fa7a-b161-4c73-a418-86681d9096fb/IM...",
      "text/html": "<div>\n<style scoped>\n    .dataframe tbody tr th:only-of-type {\n        vertical-align: middle;\n    }\n\n    .dataframe tbody tr th {\n        vertical-align: top;\n    }\n\n    .dataframe thead th {\n        text-align: right;\n    }\n</style>\n<table border=\"1\" class=\"dataframe\">\n  <thead>\n    <tr style=\"text-align: right;\">\n      <th></th>\n      <th>image_path</th>\n    </tr>\n  </thead>\n  <tbody>\n    <tr>\n      <th>36</th>\n      <td>photos/9dae48af-be71-44d1-b116-eeac179e1415/E5...</td>\n    </tr>\n    <tr>\n      <th>41</th>\n      <td>photos/fb40331d-31a3-436f-b7b1-7fa8fb9327fe/Si...</td>\n    </tr>\n    <tr>\n      <th>54</th>\n      <td>photos/944a2958-4b2d-40fe-8d75-88999828831d/Si...</td>\n    </tr>\n    <tr>\n      <th>84</th>\n      <td>photos/294a0a4d-d5d7-45f6-a841-d9a7c114b26f/DS...</td>\n    </tr>\n    <tr>\n      <th>227</th>\n      <td>photos/36170d74-bf27-4ad4-9c90-b0113c485251/IM...</td>\n    </tr>\n    <tr>\n      <th>285</th>\n      <td>photos/217b5c0d-e279-478e-8b13-1fbcc9e7e958/IM...</td>\n    </tr>\n    <tr>\n      <th>350</th>\n      <td>photos/0a03710f-40ce-4fb0-99b9-3167b6c7a40b/3E...</td>\n    </tr>\n    <tr>\n      <th>420</th>\n      <td>photos/d54aaca2-39d3-490b-9f98-3f251edf09e5/si...</td>\n    </tr>\n    <tr>\n      <th>434</th>\n      <td>photos/d5227ecd-05f4-4c3f-a308-5366fd8dbd4a/im...</td>\n    </tr>\n    <tr>\n      <th>470</th>\n      <td>photos/0f111cf8-ff3f-492e-9b2b-caac9f6c0d91/im...</td>\n    </tr>\n    <tr>\n      <th>484</th>\n      <td>photos/596b1194-eb81-4291-b716-f9cb88d831eb/IM...</td>\n    </tr>\n    <tr>\n      <th>503</th>\n      <td>photos/7d5ceb1c-f154-4135-83f7-63cfd3571dab/im...</td>\n    </tr>\n    <tr>\n      <th>514</th>\n      <td>photos/9e836bbd-e971-4636-ba2c-9ea585bb895c/si...</td>\n    </tr>\n    <tr>\n      <th>531</th>\n      <td>photos/121d6fe5-7ba8-46fa-91e6-b973e8ae9507/41...</td>\n    </tr>\n    <tr>\n      <th>539</th>\n      <td>photos/8b3f9ef7-9ce0-45c9-942e-9d8ff478281e/DS...</td>\n    </tr>\n    <tr>\n      <th>582</th>\n      <td>photos/7e94f354-0227-4155-baf2-88694445e662/AD...</td>\n    </tr>\n    <tr>\n      <th>600</th>\n      <td>photos/cb32a04a-54ff-4129-8d49-aab5294af46c/15...</td>\n    </tr>\n    <tr>\n      <th>615</th>\n      <td>photos/72906b59-d492-436b-90e5-ec32791bde2d/IM...</td>\n    </tr>\n    <tr>\n      <th>678</th>\n      <td>photos/328b7745-1e6d-4e44-bd95-cc2cb7df880d/20...</td>\n    </tr>\n    <tr>\n      <th>720</th>\n      <td>photos/3d0dc4de-7c91-4c83-982d-c89f0950239f/E5...</td>\n    </tr>\n    <tr>\n      <th>744</th>\n      <td>photos/2c40a9b1-4c8d-4619-bc1d-9b3169061a18/20...</td>\n    </tr>\n    <tr>\n      <th>836</th>\n      <td>photos/7f2563a9-9b1f-4232-bf81-5992a188e70b/EE...</td>\n    </tr>\n    <tr>\n      <th>986</th>\n      <td>photos/2dd00910-dbeb-4920-a7ea-c03b011c22cc/IM...</td>\n    </tr>\n    <tr>\n      <th>996</th>\n      <td>photos/fe67b488-957a-4eb1-a5a3-8074a9e89160/20...</td>\n    </tr>\n    <tr>\n      <th>997</th>\n      <td>photos/fe3639d5-8905-4d8b-a5ce-4ce0b0804c6e/20...</td>\n    </tr>\n    <tr>\n      <th>1024</th>\n      <td>photos/7c61f12e-9c83-499e-af68-22c51ea98b2f/IM...</td>\n    </tr>\n    <tr>\n      <th>1109</th>\n      <td>photos/87d78c46-04ce-40c1-afed-b1d752be0fc4/IM...</td>\n    </tr>\n    <tr>\n      <th>1255</th>\n      <td>photos/0583d6be-2159-452e-9860-d39ffe94a4b5/IM...</td>\n    </tr>\n    <tr>\n      <th>1303</th>\n      <td>photos/f73d09c1-cc01-4297-b2d8-87e4043d970c/20...</td>\n    </tr>\n    <tr>\n      <th>1411</th>\n      <td>photos/842a03e5-4a33-41a6-9eb6-60fb0c5a8859/15...</td>\n    </tr>\n    <tr>\n      <th>1483</th>\n      <td>photos/9e70b45f-71a5-430e-b0a4-0d93a1e21639/F9...</td>\n    </tr>\n    <tr>\n      <th>1494</th>\n      <td>photos/158176c7-9198-4d33-a40e-eca23e959faf/20...</td>\n    </tr>\n    <tr>\n      <th>1506</th>\n      <td>photos/0b9ae6ae-f967-4eb3-b95e-f02112739501/16...</td>\n    </tr>\n    <tr>\n      <th>1538</th>\n      <td>photos/f9425e31-f03d-422b-aa37-2a1bdffe4e4d/20...</td>\n    </tr>\n    <tr>\n      <th>1656</th>\n      <td>photos/3ca696cb-c5eb-48f1-9bc5-8a7bb09fec0d/P7...</td>\n    </tr>\n    <tr>\n      <th>1773</th>\n      <td>photos/0a06d010-146a-482d-8993-f61497affec3/BC...</td>\n    </tr>\n    <tr>\n      <th>1816</th>\n      <td>photos/b9a2618e-87f2-410e-a2cd-0d3a69d97673/AA...</td>\n    </tr>\n    <tr>\n      <th>1922</th>\n      <td>photos/1ed50a87-7907-46b4-a61d-a7c84e5ddcd2/IM...</td>\n    </tr>\n    <tr>\n      <th>1981</th>\n      <td>photos/d4ac6945-e92d-4207-bb5c-a3063e52e20a/20...</td>\n    </tr>\n    <tr>\n      <th>2058</th>\n      <td>photos/f8d0fa7a-b161-4c73-a418-86681d9096fb/IM...</td>\n    </tr>\n  </tbody>\n</table>\n</div>"
     },
     "execution_count": 160,
     "metadata": {},
     "output_type": "execute_result"
    }
   ],
   "source": [
    "data.iloc[results_delta[1]].filter(items=['image_path'])"
   ],
   "metadata": {
    "collapsed": false,
    "pycharm": {
     "name": "#%%\n"
    }
   }
  },
  {
   "cell_type": "code",
   "execution_count": 215,
   "outputs": [
    {
     "data": {
      "text/plain": "array([list([[1056, 3047], [1205, 3047], [1205, 3079], [1056, 3079]]),\n       '7359992894', 0.9999943077001991], dtype=object)"
     },
     "execution_count": 215,
     "metadata": {},
     "output_type": "execute_result"
    }
   ],
   "source": [
    "id = 12\n",
    "# np.array(results[id],dtype=object)[:,text_column_nr][77]\n",
    "np.array(results[id],dtype=object)[105]"
   ],
   "metadata": {
    "collapsed": false,
    "pycharm": {
     "name": "#%%\n"
    }
   }
  },
  {
   "cell_type": "code",
   "execution_count": 214,
   "outputs": [
    {
     "data": {
      "text/plain": "array([list([[1092, 2568], [1313, 2568], [1313, 2608], [1092, 2608]]),\n       '7359992894158863', 0.9955916612476253], dtype=object)"
     },
     "execution_count": 214,
     "metadata": {},
     "output_type": "execute_result"
    }
   ],
   "source": [
    "np.array(results[id],dtype=object)[77]"
   ],
   "metadata": {
    "collapsed": false,
    "pycharm": {
     "name": "#%%\n"
    }
   }
  },
  {
   "cell_type": "code",
   "execution_count": 192,
   "outputs": [
    {
     "name": "stdout",
     "output_type": "stream",
     "text": [
      "7359992894892088\n"
     ]
    }
   ],
   "source": [
    "print(ground_truth[id])"
   ],
   "metadata": {
    "collapsed": false,
    "pycharm": {
     "name": "#%%\n"
    }
   }
  },
  {
   "cell_type": "code",
   "execution_count": 218,
   "outputs": [
    {
     "data": {
      "text/plain": "40"
     },
     "execution_count": 218,
     "metadata": {},
     "output_type": "execute_result"
    }
   ],
   "source": [
    "len(results_delta[1])"
   ],
   "metadata": {
    "collapsed": false,
    "pycharm": {
     "name": "#%%\n"
    }
   }
  }
 ],
 "metadata": {
  "kernelspec": {
   "display_name": "Python 3",
   "language": "python",
   "name": "python3"
  },
  "language_info": {
   "codemirror_mode": {
    "name": "ipython",
    "version": 2
   },
   "file_extension": ".py",
   "mimetype": "text/x-python",
   "name": "python",
   "nbconvert_exporter": "python",
   "pygments_lexer": "ipython2",
   "version": "2.7.6"
  }
 },
 "nbformat": 4,
 "nbformat_minor": 0
}