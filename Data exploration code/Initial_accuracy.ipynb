{
 "cells": [
  {
   "cell_type": "code",
   "execution_count": 1,
   "outputs": [],
   "source": [
    "import pandas as pd\n",
    "import easyocr\n",
    "import os\n",
    "from tqdm.notebook import tqdm\n",
    "import torch\n",
    "import numpy as np\n",
    "\n",
    "rootPath = \"D:/DTU-D/4/Fagprojekt/Data\"\n",
    "csvName = \"labels.csv\"\n",
    "csvName2 = \"labels2.csv\"\n",
    "\n",
    "reader = easyocr.Reader(['en'])\n",
    "data = pd.concat([\n",
    "    pd.read_csv(os.path.join(rootPath,csvName)),\n",
    "    pd.read_csv(os.path.join(rootPath,csvName2))\n",
    "])\n",
    "batch = 1\n",
    "# data.drop(data.index[[1711]], inplace=True) #GIF\n",
    "data.drop(data.index[[3033,3034,3035]], inplace=True) #Corrupted pictures\n",
    "rows = data.shape[0]"
   ],
   "metadata": {
    "collapsed": false,
    "pycharm": {
     "name": "#%%\n"
    }
   }
  },
  {
   "cell_type": "code",
   "execution_count": 2,
   "outputs": [],
   "source": [
    "results = []\n",
    "ground_truth = []\n",
    "correctIn = 0\n",
    "for i in tqdm(range(rows)):\n",
    "    # Primitive attempt at batching\n",
    "    if i % batch == 0:\n",
    "        del reader\n",
    "        torch.cuda.empty_cache()\n",
    "        reader = easyocr.Reader(['en'])\n",
    "\n",
    "    image_path = data.iloc[i]['image_path'].lower()\n",
    "    if image_path.endswith(\"gif\") or image_path.endswith(\"pdf\"):\n",
    "        continue\n",
    "    # The replaced letters are NOT the same. There is a mismatch between the csv file and the actual picture name\n",
    "    if \"ä\" in image_path:\n",
    "        image_path = image_path.replace(\"ä\", \"ä\")\n",
    "    if \"å\" in image_path:\n",
    "        image_path = image_path.replace(\"å\", \"å\")\n",
    "    if \"ö\" in image_path:\n",
    "        image_path = image_path.replace(\"ö\", \"ö\")\n",
    "    path = os.path.join(rootPath,image_path)\n",
    "\n",
    "    result = reader.readtext(path, paragraph=True)\n",
    "    results.append(result)\n",
    "\n",
    "    y = data.iloc[i]['meter_number']\n",
    "    ground_truth.append(y)\n",
    "    for j in range(len(result)):\n",
    "        if y in result[j]:\n",
    "            correctIn += 1\n",
    "            break"
   ],
   "metadata": {
    "collapsed": false,
    "pycharm": {
     "name": "#%%\n"
    }
   }
  },
  {
   "cell_type": "code",
   "execution_count": 3,
   "outputs": [],
   "source": [
    "# import cv2\n",
    "# result = reader.readtext(path, paragraph=True)\n",
    "# # cv2.imdecode(np.fromfile(path, np.uint8), cv2.IMREAD_UNCHANGED).shape"
   ],
   "metadata": {
    "collapsed": false,
    "pycharm": {
     "name": "#%%\n"
    }
   }
  },
  {
   "cell_type": "code",
   "execution_count": null,
   "outputs": [],
   "source": [
    "print(f\"pretrained accuracy: {(correctIn/len(data.project_id.unique()))*100}\")"
   ],
   "metadata": {
    "collapsed": false,
    "pycharm": {
     "name": "#%%\n"
    }
   }
  },
  {
   "cell_type": "code",
   "execution_count": null,
   "outputs": [],
   "source": [
    "# np.savez(\"Variables_results_08_04_2022_detailsOn_paragraphTrue\",\n",
    "#          correctIn=correctIn,\n",
    "#          ground_truth=ground_truth\n",
    "#          results=np.array(results,dtype=object))"
   ],
   "metadata": {
    "collapsed": false,
    "pycharm": {
     "name": "#%%\n"
    }
   }
  },
  {
   "cell_type": "code",
   "execution_count": null,
   "outputs": [],
   "source": [
    "# # Rename files\n",
    "# tochange = [29,45,133,135,136,180,186,203,303,347,349,369,379,429,514,562,566,644,645,713,821,946,1008,1073,1074,1087,1211,1212,1233,1325,1558,1568,1573,1574,1577,1611,1743,1900,372,908,958,959,992,993,1061,1362,1651,1671,1675,1735]\n",
    "#\n",
    "# for i in tochange:\n",
    "#     image_path = data.iloc[i]['image_path']\n",
    "#     newName = os.path.join(rootPath,image_path.replace(\"å\",\"aa\").replace(\"ø\",\"oo\").replace(\"æ\",\"ae\"))\n",
    "#     oldFileName = os.listdir(os.path.join(rootPath,os.path.dirname(image_path)))[0]\n",
    "#     oldName = os.path.join(rootPath,os.path.dirname(image_path),oldFileName)\n",
    "#     os.rename(oldName,newName)"
   ],
   "metadata": {
    "collapsed": false,
    "pycharm": {
     "name": "#%%\n"
    }
   }
  }
 ],
 "metadata": {
  "kernelspec": {
   "display_name": "Python 3",
   "language": "python",
   "name": "python3"
  },
  "language_info": {
   "codemirror_mode": {
    "name": "ipython",
    "version": 2
   },
   "file_extension": ".py",
   "mimetype": "text/x-python",
   "name": "python",
   "nbconvert_exporter": "python",
   "pygments_lexer": "ipython2",
   "version": "2.7.6"
  }
 },
 "nbformat": 4,
 "nbformat_minor": 0
}