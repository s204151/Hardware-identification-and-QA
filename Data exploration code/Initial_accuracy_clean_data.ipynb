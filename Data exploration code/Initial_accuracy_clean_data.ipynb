{
 "cells": [
  {
   "cell_type": "code",
   "execution_count": 1,
   "outputs": [],
   "source": [
    "import pandas as pd\n",
    "import easyocr\n",
    "import os\n",
    "from tqdm.notebook import tqdm\n",
    "import torch\n",
    "import numpy as np\n",
    "\n",
    "# rootPath = \"D:/DTU-D/4/Fagprojekt/Data\"\n",
    "\n",
    "csvNamePath = r\"D:\\DTU-D\\4\\Fagprojekt\\Data\\Clean_Data\\clean_en_train\"\n",
    "csv_data_1 = pd.read_csv(os.path.join(csvNamePath,\"labels.csv\"), sep=\"\t\")\n",
    "csv_data_1[\"path\"] = csv_data_1.shape[0]*[csvNamePath]\n",
    "\n",
    "csvNamePath2 = r\"D:\\DTU-D\\4\\Fagprojekt\\Data\\Clean_Data\\clean_en_val\"\n",
    "csv_data_2 = pd.read_csv(os.path.join(csvNamePath2,\"labels.csv\"), sep=\"\t\")\n",
    "csv_data_2[\"path\"] = csv_data_2.shape[0]*[csvNamePath2]\n",
    "\n",
    "data = pd.concat([\n",
    "    csv_data_1,\n",
    "    csv_data_2\n",
    "], ignore_index=True)\n",
    "\n",
    "reader = easyocr.Reader(['en'])\n",
    "batch = 1\n",
    "# data.drop(data.index[[1711]], inplace=True) #GIF\n",
    "# data.drop(data.index[[3033,3034,3035]], inplace=True) #Corrupted pictures\n",
    "rows = data.shape[0]"
   ],
   "metadata": {
    "collapsed": false,
    "pycharm": {
     "name": "#%%\n"
    }
   }
  },
  {
   "cell_type": "code",
   "execution_count": 2,
   "outputs": [
    {
     "data": {
      "text/plain": "  0%|          | 0/749 [00:00<?, ?it/s]",
      "application/vnd.jupyter.widget-view+json": {
       "version_major": 2,
       "version_minor": 0,
       "model_id": "ce3b57bfcf7943c7a9c20a8fd7f15f68"
      }
     },
     "metadata": {},
     "output_type": "display_data"
    }
   ],
   "source": [
    "results = []\n",
    "ground_truth = []\n",
    "correctIn = 0\n",
    "for i in tqdm(range(rows)):\n",
    "    # Primitive attempt at batching\n",
    "    if i % batch == 0:\n",
    "        del reader\n",
    "        torch.cuda.empty_cache()\n",
    "        reader = easyocr.Reader(['en'])\n",
    "\n",
    "    root_path = data.iloc[i]['path'].lower()\n",
    "    image_name = data.iloc[i]['filename'].lower()\n",
    "    path = os.path.join(root_path,image_name)\n",
    "\n",
    "    result = reader.readtext(path, paragraph=True)\n",
    "    results.append(result)\n",
    "\n",
    "    #Dont judge me\n",
    "    y = data.iloc[i]['words'].split(\",\")[0].replace(\"(\", \"\").replace(\")\", \"\").replace(\" \", \"\").replace(\"[\",\"\").replace(\"\\\"\",\"\").replace(\"]\",\"\").replace(\"\\'\",\"\")\n",
    "    ground_truth.append(y)\n",
    "    for j in range(len(result)):\n",
    "        if y in result[j]:\n",
    "            correctIn += 1\n",
    "            break"
   ],
   "metadata": {
    "collapsed": false,
    "pycharm": {
     "name": "#%%\n"
    }
   }
  },
  {
   "cell_type": "code",
   "execution_count": 9,
   "outputs": [
    {
     "data": {
      "text/plain": "'5706567297255381'"
     },
     "execution_count": 9,
     "metadata": {},
     "output_type": "execute_result"
    }
   ],
   "source": [
    "# results[3]\n",
    "# data.iloc[1][\"words\"]\n",
    "# ground_truth[0]"
   ],
   "metadata": {
    "collapsed": false,
    "pycharm": {
     "name": "#%%\n"
    }
   }
  },
  {
   "cell_type": "code",
   "execution_count": 4,
   "outputs": [],
   "source": [
    "# import cv2\n",
    "# result = reader.readtext(path, paragraph=True)\n",
    "# # cv2.imdecode(np.fromfile(path, np.uint8), cv2.IMREAD_UNCHANGED).shape"
   ],
   "metadata": {
    "collapsed": false,
    "pycharm": {
     "name": "#%%\n"
    }
   }
  },
  {
   "cell_type": "code",
   "execution_count": 3,
   "outputs": [
    {
     "name": "stdout",
     "output_type": "stream",
     "text": [
      "pretrained accuracy: 9.212283044058744\n"
     ]
    }
   ],
   "source": [
    "print(f\"pretrained accuracy: {(correctIn/rows)*100}\")"
   ],
   "metadata": {
    "collapsed": false,
    "pycharm": {
     "name": "#%%\n"
    }
   }
  },
  {
   "cell_type": "code",
   "execution_count": null,
   "outputs": [],
   "source": [
    "# np.savez(\"Variables_results_08_04_2022_detailsOn_paragraphTrue\",\n",
    "#          correctIn=correctIn,\n",
    "#          ground_truth=ground_truth\n",
    "#          results=np.array(results,dtype=object))"
   ],
   "metadata": {
    "collapsed": false,
    "pycharm": {
     "name": "#%%\n"
    }
   }
  },
  {
   "cell_type": "code",
   "execution_count": 9,
   "outputs": [],
   "source": [
    "# np.save(\"Results_07_06_2022_cropped_clean_data_original_model\", np.array(results,dtype=object))"
   ],
   "metadata": {
    "collapsed": false,
    "pycharm": {
     "name": "#%%\n"
    }
   }
  },
  {
   "cell_type": "code",
   "execution_count": 12,
   "outputs": [
    {
     "data": {
      "text/plain": "[[[[46, 50], [256, 50], [256, 75], [46, 75]], '7359992901473385']]"
     },
     "execution_count": 12,
     "metadata": {},
     "output_type": "execute_result"
    }
   ],
   "source": [
    "# import numpy as np\n",
    "# npzfile = np.load(r\"D:\\DTU-D\\4\\Fagprojekt\\Hardware-identification-and-QA\\Data exploration code\\Results_07_06_2022_cropped_clean_data_original_model.npy\",\n",
    "#                   allow_pickle=True)\n",
    "# npzfile[3]"
   ],
   "metadata": {
    "collapsed": false,
    "pycharm": {
     "name": "#%%\n"
    }
   }
  }
 ],
 "metadata": {
  "kernelspec": {
   "display_name": "Python 3",
   "language": "python",
   "name": "python3"
  },
  "language_info": {
   "codemirror_mode": {
    "name": "ipython",
    "version": 2
   },
   "file_extension": ".py",
   "mimetype": "text/x-python",
   "name": "python",
   "nbconvert_exporter": "python",
   "pygments_lexer": "ipython2",
   "version": "2.7.6"
  }
 },
 "nbformat": 4,
 "nbformat_minor": 0
}